{
 "cells": [
  {
   "cell_type": "code",
   "execution_count": 1,
   "metadata": {},
   "outputs": [],
   "source": [
    "import feedparser"
   ]
  },
  {
   "cell_type": "code",
   "execution_count": 2,
   "metadata": {},
   "outputs": [],
   "source": [
    "feedBurner = feedparser.parse(\"https://aristeguinoticias.com/feed/\")"
   ]
  },
  {
   "cell_type": "code",
   "execution_count": 7,
   "metadata": {},
   "outputs": [
    {
     "data": {
      "text/plain": [
       "{'title': 'Una reforma para fortalecer, no para capturar, al Poder Judicial de la Federación | Artículo',\n",
       " 'title_detail': {'type': 'text/plain',\n",
       "  'language': None,\n",
       "  'base': 'https://aristeguinoticias.com/feed/',\n",
       "  'value': 'Una reforma para fortalecer, no para capturar, al Poder Judicial de la Federación | Artículo'},\n",
       " 'links': [{'rel': 'alternate',\n",
       "   'type': 'text/html',\n",
       "   'href': 'https://aristeguinoticias.com/1502/mexico/una-reforma-para-fortalecer-no-para-capturar-al-poder-judicial-de-la-federacion-articulo/'}],\n",
       " 'link': 'https://aristeguinoticias.com/1502/mexico/una-reforma-para-fortalecer-no-para-capturar-al-poder-judicial-de-la-federacion-articulo/',\n",
       " 'published': 'Sat, 15 Feb 2020 14:00:16 +0000',\n",
       " 'published_parsed': time.struct_time(tm_year=2020, tm_mon=2, tm_mday=15, tm_hour=14, tm_min=0, tm_sec=16, tm_wday=5, tm_yday=46, tm_isdst=0),\n",
       " 'authors': [{'name': 'Rogelio Muñiz Toledo'}],\n",
       " 'author': 'Rogelio Muñiz Toledo',\n",
       " 'author_detail': {'name': 'Rogelio Muñiz Toledo'},\n",
       " 'tags': [{'term': 'Columnistas', 'scheme': None, 'label': None},\n",
       "  {'term': 'LO + DESTACADO', 'scheme': None, 'label': None},\n",
       "  {'term': 'MÉXICO', 'scheme': None, 'label': None},\n",
       "  {'term': 'OPINIÓN', 'scheme': None, 'label': None},\n",
       "  {'term': 'Morena', 'scheme': None, 'label': None},\n",
       "  {'term': 'Poder Judicial', 'scheme': None, 'label': None},\n",
       "  {'term': 'SCJN', 'scheme': None, 'label': None},\n",
       "  {'term': 'Senado', 'scheme': None, 'label': None}],\n",
       " 'id': 'https://aristeguinoticias.com/?p=981106',\n",
       " 'guidislink': False,\n",
       " 'summary': '<img width=\"300\" height=\"137\" src=\"https://aristeguinoticias.com/wp-content/uploads/2020/02/poder-judicial-arturo-zaldivar-reforma-senadores-12022020-1-300x137.jpg\" class=\"webfeedsFeaturedVisual wp-post-image\" alt=\"\" style=\"float: left; margin-right: 5px;\" link_thumbnail=\"\" srcset=\"https://aristeguinoticias.com/wp-content/uploads/2020/02/poder-judicial-arturo-zaldivar-reforma-senadores-12022020-1-300x137.jpg 300w, https://aristeguinoticias.com/wp-content/uploads/2020/02/poder-judicial-arturo-zaldivar-reforma-senadores-12022020-1-768x350.jpg 768w, https://aristeguinoticias.com/wp-content/uploads/2020/02/poder-judicial-arturo-zaldivar-reforma-senadores-12022020-1-628x286.jpg 628w, https://aristeguinoticias.com/wp-content/uploads/2020/02/poder-judicial-arturo-zaldivar-reforma-senadores-12022020-1-298x136.jpg 298w, https://aristeguinoticias.com/wp-content/uploads/2020/02/poder-judicial-arturo-zaldivar-reforma-senadores-12022020-1-295x135.jpg 295w, https://aristeguinoticias.com/wp-content/uploads/2020/02/poder-judicial-arturo-zaldivar-reforma-senadores-12022020-1-205x93.jpg 205w, https://aristeguinoticias.com/wp-content/uploads/2020/02/poder-judicial-arturo-zaldivar-reforma-senadores-12022020-1-368x168.jpg 368w, https://aristeguinoticias.com/wp-content/uploads/2020/02/poder-judicial-arturo-zaldivar-reforma-senadores-12022020-1-270x123.jpg 270w, https://aristeguinoticias.com/wp-content/uploads/2020/02/poder-judicial-arturo-zaldivar-reforma-senadores-12022020-1-877x400.jpg 877w, https://aristeguinoticias.com/wp-content/uploads/2020/02/poder-judicial-arturo-zaldivar-reforma-senadores-12022020-1-965x440.jpg 965w, https://aristeguinoticias.com/wp-content/uploads/2020/02/poder-judicial-arturo-zaldivar-reforma-senadores-12022020-1-474x216.jpg 474w, https://aristeguinoticias.com/wp-content/uploads/2020/02/poder-judicial-arturo-zaldivar-reforma-senadores-12022020-1-233x106.jpg 233w, https://aristeguinoticias.com/wp-content/uploads/2020/02/poder-judicial-arturo-zaldivar-reforma-senadores-12022020-1-390x178.jpg 390w, https://aristeguinoticias.com/wp-content/uploads/2020/02/poder-judicial-arturo-zaldivar-reforma-senadores-12022020-1-120x55.jpg 120w, https://aristeguinoticias.com/wp-content/uploads/2020/02/poder-judicial-arturo-zaldivar-reforma-senadores-12022020-1-280x128.jpg 280w, https://aristeguinoticias.com/wp-content/uploads/2020/02/poder-judicial-arturo-zaldivar-reforma-senadores-12022020-1-388x177.jpg 388w, https://aristeguinoticias.com/wp-content/uploads/2020/02/poder-judicial-arturo-zaldivar-reforma-senadores-12022020-1-200x90.jpg 200w, https://aristeguinoticias.com/wp-content/uploads/2020/02/poder-judicial-arturo-zaldivar-reforma-senadores-12022020-1-600x274.jpg 600w, https://aristeguinoticias.com/wp-content/uploads/2020/02/poder-judicial-arturo-zaldivar-reforma-senadores-12022020-1-115x52.jpg 115w, https://aristeguinoticias.com/wp-content/uploads/2020/02/poder-judicial-arturo-zaldivar-reforma-senadores-12022020-1-74x34.jpg 74w, https://aristeguinoticias.com/wp-content/uploads/2020/02/poder-judicial-arturo-zaldivar-reforma-senadores-12022020-1-482x220.jpg 482w, https://aristeguinoticias.com/wp-content/uploads/2020/02/poder-judicial-arturo-zaldivar-reforma-senadores-12022020-1.jpg 1024w\" sizes=\"(max-width: 300px) 100vw, 300px\" />Emprender ahora una reforma estructural a la Corte o al Consejo de la Judicatura Federal pondría en riesgo la independencia del Poder Judicial y lo debilitaría, ha dicho Arturo Zaldívar',\n",
       " 'summary_detail': {'type': 'text/html',\n",
       "  'language': None,\n",
       "  'base': 'https://aristeguinoticias.com/feed/',\n",
       "  'value': '<img width=\"300\" height=\"137\" src=\"https://aristeguinoticias.com/wp-content/uploads/2020/02/poder-judicial-arturo-zaldivar-reforma-senadores-12022020-1-300x137.jpg\" class=\"webfeedsFeaturedVisual wp-post-image\" alt=\"\" style=\"float: left; margin-right: 5px;\" link_thumbnail=\"\" srcset=\"https://aristeguinoticias.com/wp-content/uploads/2020/02/poder-judicial-arturo-zaldivar-reforma-senadores-12022020-1-300x137.jpg 300w, https://aristeguinoticias.com/wp-content/uploads/2020/02/poder-judicial-arturo-zaldivar-reforma-senadores-12022020-1-768x350.jpg 768w, https://aristeguinoticias.com/wp-content/uploads/2020/02/poder-judicial-arturo-zaldivar-reforma-senadores-12022020-1-628x286.jpg 628w, https://aristeguinoticias.com/wp-content/uploads/2020/02/poder-judicial-arturo-zaldivar-reforma-senadores-12022020-1-298x136.jpg 298w, https://aristeguinoticias.com/wp-content/uploads/2020/02/poder-judicial-arturo-zaldivar-reforma-senadores-12022020-1-295x135.jpg 295w, https://aristeguinoticias.com/wp-content/uploads/2020/02/poder-judicial-arturo-zaldivar-reforma-senadores-12022020-1-205x93.jpg 205w, https://aristeguinoticias.com/wp-content/uploads/2020/02/poder-judicial-arturo-zaldivar-reforma-senadores-12022020-1-368x168.jpg 368w, https://aristeguinoticias.com/wp-content/uploads/2020/02/poder-judicial-arturo-zaldivar-reforma-senadores-12022020-1-270x123.jpg 270w, https://aristeguinoticias.com/wp-content/uploads/2020/02/poder-judicial-arturo-zaldivar-reforma-senadores-12022020-1-877x400.jpg 877w, https://aristeguinoticias.com/wp-content/uploads/2020/02/poder-judicial-arturo-zaldivar-reforma-senadores-12022020-1-965x440.jpg 965w, https://aristeguinoticias.com/wp-content/uploads/2020/02/poder-judicial-arturo-zaldivar-reforma-senadores-12022020-1-474x216.jpg 474w, https://aristeguinoticias.com/wp-content/uploads/2020/02/poder-judicial-arturo-zaldivar-reforma-senadores-12022020-1-233x106.jpg 233w, https://aristeguinoticias.com/wp-content/uploads/2020/02/poder-judicial-arturo-zaldivar-reforma-senadores-12022020-1-390x178.jpg 390w, https://aristeguinoticias.com/wp-content/uploads/2020/02/poder-judicial-arturo-zaldivar-reforma-senadores-12022020-1-120x55.jpg 120w, https://aristeguinoticias.com/wp-content/uploads/2020/02/poder-judicial-arturo-zaldivar-reforma-senadores-12022020-1-280x128.jpg 280w, https://aristeguinoticias.com/wp-content/uploads/2020/02/poder-judicial-arturo-zaldivar-reforma-senadores-12022020-1-388x177.jpg 388w, https://aristeguinoticias.com/wp-content/uploads/2020/02/poder-judicial-arturo-zaldivar-reforma-senadores-12022020-1-200x90.jpg 200w, https://aristeguinoticias.com/wp-content/uploads/2020/02/poder-judicial-arturo-zaldivar-reforma-senadores-12022020-1-600x274.jpg 600w, https://aristeguinoticias.com/wp-content/uploads/2020/02/poder-judicial-arturo-zaldivar-reforma-senadores-12022020-1-115x52.jpg 115w, https://aristeguinoticias.com/wp-content/uploads/2020/02/poder-judicial-arturo-zaldivar-reforma-senadores-12022020-1-74x34.jpg 74w, https://aristeguinoticias.com/wp-content/uploads/2020/02/poder-judicial-arturo-zaldivar-reforma-senadores-12022020-1-482x220.jpg 482w, https://aristeguinoticias.com/wp-content/uploads/2020/02/poder-judicial-arturo-zaldivar-reforma-senadores-12022020-1.jpg 1024w\" sizes=\"(max-width: 300px) 100vw, 300px\" />Emprender ahora una reforma estructural a la Corte o al Consejo de la Judicatura Federal pondría en riesgo la independencia del Poder Judicial y lo debilitaría, ha dicho Arturo Zaldívar'}}"
      ]
     },
     "execution_count": 7,
     "metadata": {},
     "output_type": "execute_result"
    }
   ],
   "source": [
    "feedBurner['entries'][2]"
   ]
  },
  {
   "cell_type": "code",
   "execution_count": null,
   "metadata": {},
   "outputs": [],
   "source": []
  }
 ],
 "metadata": {
  "kernelspec": {
   "display_name": "Python 3",
   "language": "python",
   "name": "python3"
  },
  "language_info": {
   "codemirror_mode": {
    "name": "ipython",
    "version": 3
   },
   "file_extension": ".py",
   "mimetype": "text/x-python",
   "name": "python",
   "nbconvert_exporter": "python",
   "pygments_lexer": "ipython3",
   "version": "3.6.0"
  }
 },
 "nbformat": 4,
 "nbformat_minor": 4
}
