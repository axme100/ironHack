{
 "cells": [
  {
   "cell_type": "markdown",
   "metadata": {},
   "source": [
    "# Predict difficulty of news articles"
   ]
  },
  {
   "cell_type": "code",
   "execution_count": 1,
   "metadata": {},
   "outputs": [],
   "source": [
    "import pymongo\n",
    "import pickle\n",
    "from sklearn.feature_extraction.text import TfidfVectorizer\n",
    "import pandas as pd"
   ]
  },
  {
   "cell_type": "markdown",
   "metadata": {},
   "source": [
    "# Connect to MONGO DB"
   ]
  },
  {
   "cell_type": "code",
   "execution_count": 2,
   "metadata": {},
   "outputs": [],
   "source": [
    "myclient = pymongo.MongoClient()\n",
    "mydb = myclient[\"finalProject\"]\n",
    "main = mydb[\"main_processed_article\"]"
   ]
  },
  {
   "cell_type": "markdown",
   "metadata": {},
   "source": [
    "# Load the logistic regression model and the tfidf vectorizer"
   ]
  },
  {
   "cell_type": "code",
   "execution_count": 3,
   "metadata": {},
   "outputs": [],
   "source": [
    "pickle_in = open(\"logistic_regression.pickle\",\"rb\")\n",
    "model = pickle.load(pickle_in)"
   ]
  },
  {
   "cell_type": "code",
   "execution_count": 4,
   "metadata": {},
   "outputs": [],
   "source": [
    "pickle_in = open(\"tfidf_vectorizer.pickle\",\"rb\")\n",
    "tfidf = pickle.load(pickle_in)"
   ]
  },
  {
   "cell_type": "markdown",
   "metadata": {},
   "source": [
    "# Iterate through the cursor, adding the predictions for each article"
   ]
  },
  {
   "cell_type": "code",
   "execution_count": 5,
   "metadata": {},
   "outputs": [],
   "source": [
    "cursor = main.find({})"
   ]
  },
  {
   "cell_type": "code",
   "execution_count": 6,
   "metadata": {},
   "outputs": [],
   "source": [
    "for article in cursor:\n",
    "    \n",
    "    # First check if the article has already been classified\n",
    "    myquery = { \"_id\": article['_id'] }\n",
    "    \n",
    "    already_classified = list(main.find(myquery, {\"_id\": 0, \"level_binary\": 1}))\n",
    "    article_class = already_classified[0]['level_binary']\n",
    "    \n",
    "    # If it has not been classified yet then make a prediction and upate the corresponding field\n",
    "    if not article_class:\n",
    "    \n",
    "        # Get the bag of words and make a prediction\n",
    "        bag_of_words = article['bag_of_words']\n",
    "        vectors = tfidf.transform(bag_of_words)\n",
    "        article_prediction = model.predict(vectors)\n",
    "        article_prediction = int(article_prediction[0])\n",
    "        \n",
    "        # See: https://www.w3schools.com/python/python_mongodb_update.asp\n",
    "        newvalues = { \"$set\": { \"level_binary\": article_prediction } }\n",
    "        main.update_one(myquery, newvalues)\n",
    "    else:\n",
    "        print(\"Article already classified\")"
   ]
  }
 ],
 "metadata": {
  "kernelspec": {
   "display_name": "Python 3",
   "language": "python",
   "name": "python3"
  },
  "language_info": {
   "codemirror_mode": {
    "name": "ipython",
    "version": 3
   },
   "file_extension": ".py",
   "mimetype": "text/x-python",
   "name": "python",
   "nbconvert_exporter": "python",
   "pygments_lexer": "ipython3",
   "version": "3.7.6"
  }
 },
 "nbformat": 4,
 "nbformat_minor": 4
}
