{
 "cells": [
  {
   "cell_type": "markdown",
   "metadata": {},
   "source": [
    "# Map URL categories to fixed categories"
   ]
  },
  {
   "cell_type": "markdown",
   "metadata": {},
   "source": [
    "The purpose of this script is to map variable categories in the URL paths\n",
    "to fixed categories that will be used by the api-end-point"
   ]
  },
  {
   "cell_type": "code",
   "execution_count": 1,
   "metadata": {},
   "outputs": [],
   "source": [
    "import pymongo\n",
    "import pandas as pd\n",
    "import os\n",
    "from urllib.parse import urlparse, parse_qs\n",
    "import pickle\n",
    "\n",
    "# This option allows you to see all of the columns\n",
    "pd.set_option('display.max_columns', None)\n",
    "\n",
    "# This option allows you to see the entire URL, for example\n",
    "pd.options.display.max_colwidth = 200"
   ]
  },
  {
   "cell_type": "code",
   "execution_count": 2,
   "metadata": {},
   "outputs": [],
   "source": [
    "# This function is used to extract categories from URL paths\n",
    "# Also return example URL from each category\n",
    "def get_category_from_url(target_publication, path_number):\n",
    "    \n",
    "    subset = data[data['publication']==target_publication]\n",
    "    \n",
    "    categories = []\n",
    "    \n",
    "    examples = {}\n",
    "\n",
    "    for i in range(0, len(subset)):\n",
    "        \n",
    "        targetURL = subset['url'].iloc[i]\n",
    "        parsed_url = urlparse(targetURL)\n",
    "        parsed = parsed_url.path\n",
    "        local_category = parsed.split('/')[path_number]\n",
    "        categories.append(local_category)\n",
    "        examples[local_category] = targetURL\n",
    "\n",
    "    categories = pd.DataFrame(categories)\n",
    "    return (categories[0].value_counts(), examples.values())"
   ]
  },
  {
   "cell_type": "code",
   "execution_count": 3,
   "metadata": {},
   "outputs": [],
   "source": [
    "mongoPass = os.environ['mongoPass']\n",
    "myclient = pymongo.MongoClient(\"mongodb+srv://axme100:{}@cluster0-5jopz.mongodb.net/test?retryWrites=true&w=majority\".format(mongoPass))\n",
    "mydb = myclient[\"finalProject\"]\n",
    "# Create a new colection called raw article\n",
    "mycol = mydb[\"rawArticles\"]\n",
    "cursor = mycol.find()\n",
    "data = pd.DataFrame(list(cursor))"
   ]
  },
  {
   "cell_type": "code",
   "execution_count": 4,
   "metadata": {},
   "outputs": [
    {
     "data": {
      "text/plain": [
       "EFE (España)                 1507\n",
       "Excelsior                    1277\n",
       "EFE (América)                1006\n",
       "La Jornada                    843\n",
       "El país (España)              832\n",
       "Expansión - Portada           178\n",
       "El país (América)             167\n",
       "Expansión - Emprendedores      50\n",
       "Expansión - Dinero             49\n",
       "Expansión - Nacional           49\n",
       "Expansión - Carrera            49\n",
       "Expansión - Opinión            45\n",
       "Expansión - Tecnología         41\n",
       "Expansión - Empresas           34\n",
       "Name: publication, dtype: int64"
      ]
     },
     "execution_count": 4,
     "metadata": {},
     "output_type": "execute_result"
    }
   ],
   "source": [
    "data.publication.value_counts()"
   ]
  },
  {
   "cell_type": "markdown",
   "metadata": {},
   "source": [
    "# EFE (España)"
   ]
  },
  {
   "cell_type": "code",
   "execution_count": 5,
   "metadata": {},
   "outputs": [
    {
     "name": "stdout",
     "output_type": "stream",
     "text": [
      "(deportes-redes-sociales    396\n",
      "deportes                   183\n",
      "sociedad                   153\n",
      "cultura                    136\n",
      "politica                   112\n",
      "economia                   110\n",
      "portada                     80\n",
      "practicodeporte             78\n",
      "mundo                       57\n",
      "gente                       47\n",
      "destacada                   39\n",
      "efemotor                    29\n",
      "efefuturo                   24\n",
      "efeempresas                 16\n",
      "efeestilo                   14\n",
      "comunicados                  7\n",
      "mexico-empresas              6\n",
      "reportajes                   6\n",
      "mexico                       5\n",
      "efeverifica                  3\n",
      "efetur                       3\n",
      "efeemprende                  3\n",
      "Name: 0, dtype: int64, dict_values(['https://www.efe.com/efe/espana/deportes-redes-sociales/muere-en-brasil-el-tecnico-valdir-espinosa-campeon-del-mundial-de-clubes/50001350-4183420?utm_source=wwwefecom&utm_medium=rss&utm_campaign=rss', 'https://www.efe.com/efe/espana/deportes/rubiales-mientras-sea-presidente-no-va-a-haber-futbol-los-lunes-es-malo/10006-4183349?utm_source=wwwefecom&utm_medium=rss&utm_campaign=rss', 'https://www.efe.com/efe/espana/mexico-empresas/empresarios-mexicanos-piden-certidumbre-ante-contraccion-y-coronavirus/50001436-4181808?utm_source=wwwefecom&utm_medium=rss&utm_campaign=rss', 'https://www.efe.com/efe/espana/cultura/eusebio-poncela-me-gusta-coger-el-texto-y-ver-como-saco-la-cabeza/10005-4183274?utm_source=wwwefecom&utm_medium=rss&utm_campaign=rss', 'https://www.efe.com/efe/espana/portada/contagiada-de-coronavirus-la-vicepresidenta-irani-masumeh-ebtekar/10010-4183334?utm_source=wwwefecom&utm_medium=rss&utm_campaign=rss', 'https://www.efe.com/efe/espana/destacada/cinco-anos-sin-nemtsov-el-opositor-asesinado-frente-al-kremlin/10011-4183452?utm_source=wwwefecom&utm_medium=rss&utm_campaign=rss', 'https://www.efe.com/efe/espana/sociedad/sanidad-ampliara-espacios-sin-humo-y-defiende-la-subida-del-precio-tabaco/10004-4183192?utm_source=wwwefecom&utm_medium=rss&utm_campaign=rss', 'https://www.efe.com/efe/espana/efemotor/el-mercado-del-automovil-en-espana-caera-un-20-si-gobierno-modifica-impuesto-matriculacion-segun-kia-motors-iberia/50000913-4182945?utm_source=wwwefecom&utm_medium=rss&utm_campaign=rss', 'https://www.efe.com/efe/espana/politica/lledoners-permite-a-junqueras-y-romeva-salir-3-dias-la-semana-para-trabajar/10002-4183417?utm_source=wwwefecom&utm_medium=rss&utm_campaign=rss', 'https://www.efe.com/efe/espana/comunicados/dqsconsulting-partner-de-microsoft-en-la-cresta-ola-con-sus-servicios-customer-engagement/10004010-4183158?utm_source=wwwefecom&utm_medium=rss&utm_campaign=rss', 'https://www.efe.com/efe/espana/mundo/el-parlamento-da-la-confianza-al-gobierno-de-fakhfakh-y-evita-repeticion-elecciones/10001-4183143?utm_source=wwwefecom&utm_medium=rss&utm_campaign=rss', 'https://www.efe.com/efe/espana/economia/el-reino-unido-dejaria-la-negociacion-con-ue-si-no-hay-consenso-para-junio/10003-4183268?utm_source=wwwefecom&utm_medium=rss&utm_campaign=rss', 'https://www.efe.com/efe/espana/practicodeporte/pau-gasol-sigue-su-recuperacion-con-la-ilusion-de-aportar-en-tokio-2020/50000944-4183361?utm_source=wwwefecom&utm_medium=rss&utm_campaign=rss', 'https://www.efe.com/efe/espana/efeempresas/ohl-recorta-sus-perdidas-un-92-en-2019/50000908-4183133?utm_source=wwwefecom&utm_medium=rss&utm_campaign=rss', 'https://www.efe.com/efe/america/mexico/protestan-por-la-llegada-de-un-crucero-con-posible-caso-covid-19-a-mexico/50000545-4182928?utm_source=wwwefecom&utm_medium=rss&utm_campaign=rss', 'https://www.efe.com/efe/espana/gente/luz-casal-el-carnaval-demuestra-que-en-cadiz-hay-mucho-ingenio-suelto/10007-4183288?utm_source=wwwefecom&utm_medium=rss&utm_campaign=rss', 'https://www.efe.com/efe/espana/efefuturo/un-nuevo-caracol-marino-de-lanzarote-en-homenaje-a-margarita-salas/50000905-4183188?utm_source=wwwefecom&utm_medium=rss&utm_campaign=rss', 'https://www.efe.com/efe/espana/efeestilo/marchesa-renace-tras-el-huracan-weinstein/50000912-4183033?utm_source=wwwefecom&utm_medium=rss&utm_campaign=rss', 'https://www.efe.com/efe/espana/reportajes/fran-ocana-flamenco-corriendo-por-las-venas/10000033-4182920?utm_source=wwwefecom&utm_medium=rss&utm_campaign=rss', 'https://www.efe.com/efe/espana/efeverifica/los-bulos-sobre-el-coronavirus-se-propagan-en-espana/50001435-4182630?utm_source=wwwefecom&utm_medium=rss&utm_campaign=rss', 'https://www.efe.com/efe/espana/efeemprende/cobee-cierra-una-ronda-de-2-1-millones-euros/50000911-4180436?utm_source=wwwefecom&utm_medium=rss&utm_campaign=rss', 'https://www.efe.com/efe/espana/efetur/abre-en-dubai-el-primer-me-by-melia-de-oriente-medio/50000910-4182984?utm_source=wwwefecom&utm_medium=rss&utm_campaign=rss']))\n"
     ]
    }
   ],
   "source": [
    "efe_espana = get_category_from_url('EFE (España)', 3)\n",
    "print(efe_espana)"
   ]
  },
  {
   "cell_type": "code",
   "execution_count": 6,
   "metadata": {},
   "outputs": [],
   "source": [
    "efe_espana_terms = {'deportes-redes-sociales': 'deportes',\n",
    "'deportes': 'deportes',\n",
    "'sociedad': 'cultura-sociedad',\n",
    "'cultura': 'cultura-sociedad',\n",
    "'politica': 'política',\n",
    "'economia': 'economía',\n",
    "'portada': 'otro',\n",
    "'practicodeporte': 'deportes',\n",
    "'mundo': 'mundo',\n",
    "'gente': 'chisme',\n",
    "'destacada': 'otro',\n",
    "'efemotor': 'tecnología',\n",
    "'efefuturo': 'tecnología',\n",
    "'efeempresas': 'negocios',\n",
    "'efeestilo': 'moda',\n",
    "'mexico-empresas': 'méxico',\n",
    "'comunicados': 'otro',\n",
    "'reportajes': 'otro',\n",
    "'mexico': 'méxico',\n",
    "'efeverifica': 'otro',\n",
    "'efeemprende': 'otro',\n",
    "'efetur': 'otro'}"
   ]
  },
  {
   "cell_type": "code",
   "execution_count": 7,
   "metadata": {},
   "outputs": [
    {
     "data": {
      "text/plain": [
       "(sociedad                   248\n",
       " deportes                   211\n",
       " cultura                    118\n",
       " mexico                     109\n",
       " politica                    98\n",
       " economia                    94\n",
       " mundo                       63\n",
       " comunicados                 27\n",
       " gente                       21\n",
       " reportajes                   7\n",
       " tecnologia                   5\n",
       " portada                      4\n",
       " deportes-redes-sociales      1\n",
       " Name: 0, dtype: int64,\n",
       " dict_values(['https://www.efe.com/efe/america/deportes/muere-en-brasil-el-tecnico-valdir-espinosa-campeon-del-mundial-de-clubes/20000010-4183420?utm_source=wwwefecom&utm_medium=rss&utm_campaign=rss', 'https://www.efe.com/efe/america/cultura/la-mayor-coleccion-privada-de-neruda-se-pone-a-venta-en-barcelona/20000009-4183354?utm_source=wwwefecom&utm_medium=rss&utm_campaign=rss', 'https://www.efe.com/efe/america/sociedad/crucero-sigue-frente-a-isla-mexicana-cozumel-esperando-permiso-de-desembarque/20000013-4183383?utm_source=wwwefecom&utm_medium=rss&utm_campaign=rss', 'https://www.efe.com/efe/america/tecnologia/apadrinar-un-arbol-y-capturar-carbono-en-ecuador-a-clic-de-distancia/20000036-4181694?utm_source=wwwefecom&utm_medium=rss&utm_campaign=rss', 'https://www.efe.com/efe/america/economia/el-petroleo-de-texas-cae-un-4-04-por-temor-a-los-efectos-del-coronavirus/20000011-4183413?utm_source=wwwefecom&utm_medium=rss&utm_campaign=rss', 'https://www.efe.com/efe/america/mexico/la-fiscalia-se-opone-a-que-garcia-luna-salga-bajo-fianza-por-riesgo-de-fuga/50000545-4183448?utm_source=wwwefecom&utm_medium=rss&utm_campaign=rss', 'https://www.efe.com/efe/america/politica/el-presidente-dominicano-dice-que-la-anulacion-de-las-elecciones-empana-democracia/20000035-4183385?utm_source=wwwefecom&utm_medium=rss&utm_campaign=rss', 'https://www.efe.com/efe/america/comunicados/femsa-anuncia-resultados-del-cuarto-trimestre-y-ano-completo-2019/20004010-4183351?utm_source=wwwefecom&utm_medium=rss&utm_campaign=rss', 'https://www.efe.com/efe/america/mundo/un-documental-lleva-a-la-onu-lucha-de-las-victimas-del-franquismo-en-espana/20000012-4182880?utm_source=wwwefecom&utm_medium=rss&utm_campaign=rss', 'https://www.efe.com/efe/america/portada/bachelet-pide-mayor-atencion-a-la-raiz-del-descontento-en-latinoamerica/20000064-4183278?utm_source=wwwefecom&utm_medium=rss&utm_campaign=rss', 'https://www.efe.com/efe/america/gente/nicki-minaj-pide-perdon-por-comportamiento-de-esposo-en-carnaval-trinitense/20000014-4182882?utm_source=wwwefecom&utm_medium=rss&utm_campaign=rss', 'https://www.efe.com/efe/america/reportajes/fran-ocana-flamenco-corriendo-por-las-venas/20000033-4182920?utm_source=wwwefecom&utm_medium=rss&utm_campaign=rss', 'https://www.efe.com/efe/espana/deportes-redes-sociales/los-japon-ecuador-de-la-copa-davis-se-jugaran-sin-publico-por-el-coronavirus/50001350-4182063?utm_source=wwwefecom&utm_medium=rss&utm_campaign=rss']))"
      ]
     },
     "execution_count": 7,
     "metadata": {},
     "output_type": "execute_result"
    }
   ],
   "source": [
    "efe_america = get_category_from_url('EFE (América)', 3)\n",
    "efe_america"
   ]
  },
  {
   "cell_type": "code",
   "execution_count": 8,
   "metadata": {},
   "outputs": [],
   "source": [
    "efe_america_terms = {\"sociedad\": \"mundo\",\n",
    "\"deportes\": \"deportes\",\n",
    "\"cultura\": \"mundo\",\n",
    "\"mexico\": \"méxico\",\n",
    "\"politica\": \"politica\",\n",
    "\"economia\": \"economía\",\n",
    "\"mundo\": \"mundo\",\n",
    "\"gente\": \"chisme\",\n",
    "\"comunicados\": \"otro\",\n",
    "\"reportajes\": \"otro\",\n",
    "\"tecnologia\": \"tecnología\",\n",
    "\"portada\": \"otro\",\n",
    "\"deportes-redes-sociales\": \"deportes\"}"
   ]
  },
  {
   "cell_type": "code",
   "execution_count": 9,
   "metadata": {},
   "outputs": [
    {
     "data": {
      "text/plain": [
       "(elpais           46\n",
       " internacional    41\n",
       " cultura          23\n",
       " economia         18\n",
       " sociedad         13\n",
       " verne             8\n",
       " deportes          6\n",
       " retina            4\n",
       " elviajero         2\n",
       " elcomidista       1\n",
       " gente             1\n",
       " mrss-s            1\n",
       " cincodias         1\n",
       " politica          1\n",
       " diario            1\n",
       " Name: 0, dtype: int64,\n",
       " dict_values(['https://elpais.com/internacional/2020/02/01/actualidad/1580571998_684729.html', 'https://elpais.com/elpais/2019/02/19/planeta_futuro/1550599103_443707.html', 'https://elpais.com/cultura/2020/02/26/babelia/1582720365_799984.html', 'https://elpais.com/sociedad/2020/02/18/actualidad/1582046433_957378.html', 'https://elpais.com/economia/2020/02/27/actualidad/1582776346_417059.html', 'https://verne.elpais.com/verne/2019/11/30/mexico/1575076665_430100.html', 'https://elviajero.elpais.com/elviajero/2019/01/03/actualidad/1546530533_905999.html', 'https://elcomidista.elpais.com/elcomidista/2020/01/10/receta/1578676438_261516.html', 'https://elpais.com/deportes/2020/02/25/actualidad/1582652211_376866.html', 'https://cincodias.elpais.com/cincodias/2020/02/22/companias/1582376051_402246.html', 'https://retina.elpais.com/retina/2020/02/24/innovacion/1582561513_394553.html', 'https://feeds.elpais.com/mrss-s/pages/ep/site/elpais.com/section/america/Orgullo Gay: 25 frases aparentemente inofensivas que la comunidad LGTB sigue oyendo a diario', 'https://elpais.com/politica/2020/02/03/actualidad/1580762210_362532.html', 'https://elpais.com/gente/2020-02-26/el-holograma-de-whitney-houston-se-va-de-gira.html', 'https://elpais.com/diario/2010/09/14/agenda/1284415202_740215.html']))"
      ]
     },
     "execution_count": 9,
     "metadata": {},
     "output_type": "execute_result"
    }
   ],
   "source": [
    "el_pais_america = get_category_from_url('El país (América)', 1)\n",
    "el_pais_america"
   ]
  },
  {
   "cell_type": "code",
   "execution_count": 10,
   "metadata": {},
   "outputs": [],
   "source": [
    "el_pais_america_terms = {\"elpais\": \"otro\",\n",
    "\"internacional\": \"mundo\",\n",
    "\"cultura\": \"cultura-sociedad\",\n",
    "\"economia\": \"economía\",\n",
    "\"sociedad\": \"cultura-sociedad\",\n",
    "\"verne\": \"otro\",\n",
    "\"deportes\": \"deportes\",\n",
    "\"retina\": \"otro\",\n",
    "\"elviajero\": \"viajes\",\n",
    "\"cincodias\": \"otro\",\n",
    "\"elcomidista\": \"otro\",\n",
    "\"politica\": \"política\",\n",
    "\"mrss-s\": \"otro\"}"
   ]
  },
  {
   "cell_type": "code",
   "execution_count": 11,
   "metadata": {},
   "outputs": [
    {
     "data": {
      "text/plain": [
       "(elpais           261\n",
       " politica          92\n",
       " cultura           92\n",
       " sociedad          81\n",
       " deportes          66\n",
       " internacional     64\n",
       " economia          59\n",
       " ccaa              35\n",
       " verne             18\n",
       " cat               12\n",
       " retina            12\n",
       " elviajero          9\n",
       " elcomidista        8\n",
       " cincodias          8\n",
       " tecnologia         7\n",
       " gente              3\n",
       " espana             1\n",
       " a                  1\n",
       " mrss-s             1\n",
       " dynclick           1\n",
       " diario             1\n",
       " Name: 0, dtype: int64,\n",
       " dict_values(['https://elpais.com/politica/2020/02/27/actualidad/1582817995_080741.html', 'https://elpais.com/internacional/2019/12/04/actualidad/1575467276_142190.html', 'https://elpais.com/sociedad/2020/02/26/actualidad/1582734638_122366.html?rel=mas', 'https://cincodias.elpais.com/cincodias/2020/02/26/fortunas/1582745939_237807.html', 'https://elpais.com/cultura/2020/02/26/actualidad/1582731991_683126.html', 'https://elpais.com/elpais/2020/02/27/gastronotas_de_capel/1582785884_926164.html', 'https://elpais.com/economia/2020/02/20/publizia/1582202912_567545.html', 'https://elpais.com/ccaa/2020/02/27/catalunya/1582815228_560894.html', 'https://cat.elpais.com/cat/2020/02/27/opinion/1582800877_128897.html', 'https://retina.elpais.com/retina/2020/02/26/tendencias/1582721693_694433.html', 'https://elpais.com/tecnologia/2019/11/02/actualidad/1572657400_046363.html', 'https://elpais.com/deportes/2020/02/27/actualidad/1582805768_845592.html', 'https://verne.elpais.com/verne/2018/07/18/articulo/1531908163_586619.html', 'https://elviajero.elpais.com/elviajero/2018/04/12/actualidad/1523531477_279344.html', 'https://elcomidista.elpais.com/elcomidista/2019/12/10/receta/1575985360_653955.html', 'https://tpa7.iahorro.com/dynclick/iahorro-com/?esc-publisher=MediosExternos&esc-name=MediosExternos-ORG_PRT_Febrero_Articulo&esc-location=ELPAIS-Textlink&esc-creative=Textlink-Textlink&esc-creativetype=Textlink&eurl=https%3A%2F%2Fwww.iahorro.com%2Fahorro%2Feducacion-financiera%2Fte_han_pedido_ser_avalista_en_un_prestamo_esto_es_lo_que_debes_tener_en_cuenta.html%3Futm_source%3DELPAIS%26utm_medium%3DMEXT%26utm_campaign%3DCRE_BRAND_FEBRERO_ARTICULO', 'https://feeds.elpais.com/mrss-s/pages/ep/site/elpais.com/Orgullo Gay: 25 frases aparentemente inofensivas que la comunidad LGTB sigue oyendo a diario', 'https://elpais.com/diario/2005/07/24/eps/1122186410_850215.html', 'https://elpais.com/a/2020/02/25/actualidad/1582647449_567923.html', 'https://elpais.com/gente/2020-02-26/los-hijos-de-imanol-arias-y-pastora-vega-nuevas-estrellas-televisivas.html', 'https://elpais.com/espana/madrid/2020-02-27/la-ultima-mentira-de-marc-olive-el-farsante-de-los-pisos-colmena.html']))"
      ]
     },
     "execution_count": 11,
     "metadata": {},
     "output_type": "execute_result"
    }
   ],
   "source": [
    "el_pais_espana = get_category_from_url('El país (España)', 1)\n",
    "el_pais_espana"
   ]
  },
  {
   "cell_type": "code",
   "execution_count": 12,
   "metadata": {},
   "outputs": [],
   "source": [
    "el_pais_espana_terms = {\"elpais\": \"cat\",\n",
    "\"cultura\": \"cultura-sociedad\",\n",
    "\"politica\": \"política\",\n",
    "\"sociedad\": \"cultura-sociedad\",\n",
    "\"deportes\": \"deportes\",\n",
    "\"internacional\": \"mundo\",\n",
    "\"economia\": \"economía\",\n",
    "\"ccaa\": \"otro\",\n",
    "\"verne\": \"otro\",\n",
    "\"retina\": \"otro\",\n",
    "\"cat\": \"otro\",\n",
    "\"elviajero\": \"viajes\",\n",
    "\"cincodias\": \"otro\",\n",
    "\"elcomidista\": \"otro\",\n",
    "\"tecnologia\": \"tecnología\",\n",
    "\"a\": \"otro\",\n",
    "\"diario\": \"otro\",\n",
    "\"mrss-s\": \"otro\",\n",
    "\"dynclick\": \"otro\"}"
   ]
  },
  {
   "cell_type": "code",
   "execution_count": 13,
   "metadata": {},
   "outputs": [
    {
     "data": {
      "text/plain": [
       "(nacional       345\n",
       " comunidad      220\n",
       " adrenalina     209\n",
       " global         151\n",
       " funcion        149\n",
       " opinion        113\n",
       " trending        58\n",
       " expresiones     25\n",
       " hacker           6\n",
       " multimedia       1\n",
       " Name: 0, dtype: int64,\n",
       " dict_values(['https://www.excelsior.com.mx/adrenalina/como-celebrar-los-goles-del-clasico-real-madrid-barcelona-en-tiktok/1366634', 'https://www.excelsior.com.mx/comunidad/ayuda-a-localizar-a-anabella-desaparecio-en-naucalpan/1366625', 'https://www.excelsior.com.mx/funcion/champions-magic-un-show-donde-lo-imposible-se-vuelve-real/1366628', 'https://www.excelsior.com.mx/global/vicepresidenta-de-iran-da-positivo-a-coronavirus/1366631', 'https://www.excelsior.com.mx/nacional/apoya-la-semar-a-buzo-en-islas-marias-en-nayarit/1366629', 'https://www.excelsior.com.mx/trending/se-una-dama-video-que-exhibe-estereotipos-que-mujeres-viven-a-diario/1366523', 'https://www.excelsior.com.mx/hacker/pega-coronavirus-a-apple-para-perfeccionar-nuevos-iphone/1366597', 'https://www.excelsior.com.mx/multimedia/esto-dijo-la-tia-de-uno-de-los-vinculados-al-caso-fatima/1365352', 'https://www.excelsior.com.mx/expresiones/a-subasta-mas-de-600-objetos-de-neruda-algunos-ligados-a-gabo/1366596', 'https://www.excelsior.com.mx/opinion/juan-jose-rodriguez-prats/las-buenas-conciencias/1366573']))"
      ]
     },
     "execution_count": 13,
     "metadata": {},
     "output_type": "execute_result"
    }
   ],
   "source": [
    "excelsior = get_category_from_url('Excelsior', 1)\n",
    "excelsior"
   ]
  },
  {
   "cell_type": "code",
   "execution_count": 14,
   "metadata": {},
   "outputs": [],
   "source": [
    "excelsior_terms = {\"nacional\": \"méxico\",\n",
    "\"comunidad\": \"cultura-sociedad\",\n",
    "\"adrenalina\": \"deportes\",\n",
    "\"global\": \"mundo\",\n",
    "\"funcion\": \"otro\",\n",
    "\"opinion\": \"otro\",\n",
    "\"trending\": \"chisme\",\n",
    "\"expresiones\": \"chisme\",\n",
    "\"hacker\": \"tecnología\",\n",
    "\"multimedia\": \"otro\"}"
   ]
  },
  {
   "cell_type": "code",
   "execution_count": 15,
   "metadata": {},
   "outputs": [
    {
     "data": {
      "text/plain": [
       "(politica        243\n",
       " deportes         99\n",
       " sociedad         73\n",
       " economia         72\n",
       " estados          70\n",
       " capital          61\n",
       " opinion          55\n",
       " mundo            54\n",
       " cultura          46\n",
       " espectaculos     34\n",
       " index.php        24\n",
       " ciencias         12\n",
       " Name: 0, dtype: int64,\n",
       " dict_values(['https://www.jornada.com.mx/2020/02/27/opinion/020o1eco?partner=rss', 'https://www.jornada.com.mx/2020/02/27/deportes/a10n2dep?partner=rss', 'https://www.jornada.com.mx/2020/02/27/politica/003n2pol?partner=rss', 'https://www.jornada.com.mx/2020/02/27/espectaculos/a08n1esp?partner=rss', 'https://www.jornada.com.mx/2020/02/27/estados/024n3est?partner=rss', 'https://www.jornada.com.mx/2020/02/27/mundo/022n4mun?partner=rss', 'https://www.jornada.com.mx/2020/02/27/economia/020n2eco?partner=rss', 'https://www.jornada.com.mx/2020/02/27/sociedad/031n2soc?partner=rss', 'https://www.jornada.com.mx/2020/02/27/ciencias/a02n1cie?partner=rss', 'https://www.jornada.com.mx/2020/02/27/cultura/a03n1cul?partner=rss', 'https://www.jornada.com.mx/2020/02/27/capital/028n3cap?partner=rss', 'https://www.jornada.com.mx/2020/02/27/index.php?section=cartones&id=4&partner=rss']))"
      ]
     },
     "execution_count": 15,
     "metadata": {},
     "output_type": "execute_result"
    }
   ],
   "source": [
    "la_jornada = get_category_from_url('La Jornada', 4)\n",
    "la_jornada"
   ]
  },
  {
   "cell_type": "code",
   "execution_count": 16,
   "metadata": {},
   "outputs": [],
   "source": [
    "la_jornada_terms = {\"politica\": \"política\",\n",
    "\"deportes\": \"deportes\",\n",
    "\"sociedad\": \"cultura-sociedad\",\n",
    "\"estados\": \"méxico\",\n",
    "\"economia\": \"economía\",\n",
    "\"capital\": \"negocios\",\n",
    "\"opinion\": \"otro\",\n",
    "\"mundo\": \"mundo\",\n",
    "\"cultura\": \"cultura-sociedad\",\n",
    "\"espectaculos\": \"otro\",\n",
    "\"index.php\": \"otro\",\n",
    "\"ciencias\": \"tecnología\"}"
   ]
  },
  {
   "cell_type": "markdown",
   "metadata": {},
   "source": [
    "# Create a dictionary that contains the mapping from the periodical to the terms that are being used"
   ]
  },
  {
   "cell_type": "code",
   "execution_count": 17,
   "metadata": {},
   "outputs": [],
   "source": [
    "url_terms = {**efe_espana_terms, **excelsior_terms, **efe_america_terms, **la_jornada_terms, **el_pais_espana_terms, **el_pais_america_terms}\n",
    "\n",
    "\n",
    "#url_terms = {\n",
    "#{'EFE (España)': efe_espana_terms,\n",
    "#'Excelsior': excelsior_terms,\n",
    "#'EFE (América)': efe_america_terms,\n",
    "#'La Jornada': la_jornada_terms,\n",
    "#'El país (España)': el_pais_espana,\n",
    "#'El país (América)': el_pais_america_terms}\n",
    "#}"
   ]
  },
  {
   "cell_type": "code",
   "execution_count": 18,
   "metadata": {},
   "outputs": [
    {
     "data": {
      "text/plain": [
       "{'deportes-redes-sociales': 'deportes',\n",
       " 'deportes': 'deportes',\n",
       " 'sociedad': 'cultura-sociedad',\n",
       " 'cultura': 'cultura-sociedad',\n",
       " 'politica': 'política',\n",
       " 'economia': 'economía',\n",
       " 'portada': 'otro',\n",
       " 'practicodeporte': 'deportes',\n",
       " 'mundo': 'mundo',\n",
       " 'gente': 'chisme',\n",
       " 'destacada': 'otro',\n",
       " 'efemotor': 'tecnología',\n",
       " 'efefuturo': 'tecnología',\n",
       " 'efeempresas': 'negocios',\n",
       " 'efeestilo': 'moda',\n",
       " 'mexico-empresas': 'méxico',\n",
       " 'comunicados': 'otro',\n",
       " 'reportajes': 'otro',\n",
       " 'mexico': 'méxico',\n",
       " 'efeverifica': 'otro',\n",
       " 'efeemprende': 'otro',\n",
       " 'efetur': 'otro',\n",
       " 'nacional': 'méxico',\n",
       " 'comunidad': 'cultura-sociedad',\n",
       " 'adrenalina': 'deportes',\n",
       " 'global': 'mundo',\n",
       " 'funcion': 'otro',\n",
       " 'opinion': 'otro',\n",
       " 'trending': 'chisme',\n",
       " 'expresiones': 'chisme',\n",
       " 'hacker': 'tecnología',\n",
       " 'multimedia': 'otro',\n",
       " 'tecnologia': 'tecnología',\n",
       " 'estados': 'méxico',\n",
       " 'capital': 'negocios',\n",
       " 'espectaculos': 'otro',\n",
       " 'index.php': 'otro',\n",
       " 'ciencias': 'tecnología',\n",
       " 'elpais': 'otro',\n",
       " 'internacional': 'mundo',\n",
       " 'ccaa': 'otro',\n",
       " 'verne': 'otro',\n",
       " 'retina': 'otro',\n",
       " 'cat': 'otro',\n",
       " 'elviajero': 'viajes',\n",
       " 'cincodias': 'otro',\n",
       " 'elcomidista': 'otro',\n",
       " 'a': 'otro',\n",
       " 'diario': 'otro',\n",
       " 'mrss-s': 'otro',\n",
       " 'dynclick': 'otro'}"
      ]
     },
     "execution_count": 18,
     "metadata": {},
     "output_type": "execute_result"
    }
   ],
   "source": [
    "url_terms"
   ]
  },
  {
   "cell_type": "code",
   "execution_count": 19,
   "metadata": {},
   "outputs": [
    {
     "data": {
      "text/plain": [
       "['otro',\n",
       " 'moda',\n",
       " 'mundo',\n",
       " 'tecnología',\n",
       " 'méxico',\n",
       " 'deportes',\n",
       " 'chisme',\n",
       " 'cultura-sociedad',\n",
       " 'negocios',\n",
       " 'política',\n",
       " 'viajes',\n",
       " 'economía']"
      ]
     },
     "execution_count": 19,
     "metadata": {},
     "output_type": "execute_result"
    }
   ],
   "source": [
    "list(set([x for x in url_terms.values()]))"
   ]
  },
  {
   "cell_type": "code",
   "execution_count": 20,
   "metadata": {},
   "outputs": [],
   "source": [
    "filename = 'url_terms'\n",
    "outfile = open(filename,'wb')\n",
    "pickle.dump(url_terms,outfile)\n",
    "outfile.close()"
   ]
  }
 ],
 "metadata": {
  "kernelspec": {
   "display_name": "Python 3",
   "language": "python",
   "name": "python3"
  },
  "language_info": {
   "codemirror_mode": {
    "name": "ipython",
    "version": 3
   },
   "file_extension": ".py",
   "mimetype": "text/x-python",
   "name": "python",
   "nbconvert_exporter": "python",
   "pygments_lexer": "ipython3",
   "version": "3.7.6"
  }
 },
 "nbformat": 4,
 "nbformat_minor": 4
}
