{
 "cells": [
  {
   "cell_type": "code",
   "execution_count": 1,
   "metadata": {},
   "outputs": [],
   "source": [
    "import feedparser"
   ]
  },
  {
   "cell_type": "code",
   "execution_count": 2,
   "metadata": {},
   "outputs": [],
   "source": [
    "feedBurner = feedparser.parse(\"https://feeds.elpais.com/mrss-s/pages/ep/site/elpais.com/portada\")"
   ]
  },
  {
   "cell_type": "code",
   "execution_count": 3,
   "metadata": {},
   "outputs": [
    {
     "data": {
      "text/plain": [
       "dict_keys(['id', 'guidislink', 'link', 'title', 'title_detail', 'published', 'published_parsed', 'links', 'authors', 'author', 'author_detail', 'dcterms_alternative', 'summary', 'summary_detail', 'media_keywords', 'tags', 'media_content', 'media_credit', 'credit', 'media_text', 'content', 'media_thumbnail', 'href'])"
      ]
     },
     "execution_count": 3,
     "metadata": {},
     "output_type": "execute_result"
    }
   ],
   "source": [
    "feedBurner['entries'][0].keys()"
   ]
  },
  {
   "cell_type": "code",
   "execution_count": 4,
   "metadata": {},
   "outputs": [
    {
     "data": {
      "text/plain": [
       "'EE UU exige a Europa que secunde la guerra tecnológica contra China'"
      ]
     },
     "execution_count": 4,
     "metadata": {},
     "output_type": "execute_result"
    }
   ],
   "source": [
    "feedBurner['entries'][0]['title']"
   ]
  },
  {
   "cell_type": "code",
   "execution_count": 5,
   "metadata": {},
   "outputs": [
    {
     "data": {
      "text/plain": [
       "'https://elpais.com/internacional/2020/02/15/actualidad/1581792666_553772.html'"
      ]
     },
     "execution_count": 5,
     "metadata": {},
     "output_type": "execute_result"
    }
   ],
   "source": [
    "feedBurner['entries'][0]['id']"
   ]
  },
  {
   "cell_type": "code",
   "execution_count": 9,
   "metadata": {},
   "outputs": [
    {
     "data": {
      "text/plain": [
       "[{'type': 'text/plain',\n",
       "  'language': None,\n",
       "  'base': 'https://feeds.elpais.com/mrss-s/pages/ep/site/elpais.com/portada',\n",
       "  'value': 'Logo de Huawei en la feria de tecnología IFA de Berlín.'},\n",
       " {'type': 'text/html',\n",
       "  'language': None,\n",
       "  'base': 'https://feeds.elpais.com/mrss-s/pages/ep/site/elpais.com/portada',\n",
       "  'value': '<p>Los ecos de la guerra fría tecnológica entre Estados Unidos y China han retumbado este sábado en la conferencia de seguridad de Múnich. La tensión cobra cuerpo <a href=\"https://elpais.com/economia/2020/02/13/actualidad/1581620587_797527.html\">en un caballo de batalla con nombre propio: Huawei.</a> Los posibles riesgos de espionaje e injerencia asociados a la participación del gigante tecnológico chino en infraestructuras estratégicas han mutado en ataques directos de los representantes de la Administración estadounidense como advertencia a los europeos, a los que EE UU <a href=\"https://elpais.com/economia/2019/11/12/actualidad/1573571667_071467.html\">presiona para que se sumen al boicot a Huawei.</a></p><p><a href=\"https://elpais.com/internacional/2020/02/15/actualidad/1581792666_553772.html\" target=\"_blank\">Seguir leyendo</a></p>'}]"
      ]
     },
     "execution_count": 9,
     "metadata": {},
     "output_type": "execute_result"
    }
   ],
   "source": [
    "feedBurner['entries'][0]['content']"
   ]
  },
  {
   "cell_type": "code",
   "execution_count": null,
   "metadata": {},
   "outputs": [],
   "source": []
  },
  {
   "cell_type": "code",
   "execution_count": null,
   "metadata": {},
   "outputs": [],
   "source": []
  }
 ],
 "metadata": {
  "kernelspec": {
   "display_name": "Python 3",
   "language": "python",
   "name": "python3"
  },
  "language_info": {
   "codemirror_mode": {
    "name": "ipython",
    "version": 3
   },
   "file_extension": ".py",
   "mimetype": "text/x-python",
   "name": "python",
   "nbconvert_exporter": "python",
   "pygments_lexer": "ipython3",
   "version": "3.6.0"
  }
 },
 "nbformat": 4,
 "nbformat_minor": 4
}
