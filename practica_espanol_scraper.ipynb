{
 "cells": [
  {
   "cell_type": "code",
   "execution_count": 117,
   "metadata": {},
   "outputs": [],
   "source": [
    "from bs4 import BeautifulSoup\n",
    "import requests\n",
    "import re\n",
    "import unicodedata"
   ]
  },
  {
   "cell_type": "code",
   "execution_count": 2,
   "metadata": {},
   "outputs": [],
   "source": [
    "headers = {'User-Agent': 'Mozilla/5.0 (Macintosh; Intel Mac OS X 10.15; rv:73.0) Gecko/20100101 Firefox/73.0'}"
   ]
  },
  {
   "cell_type": "code",
   "execution_count": 3,
   "metadata": {},
   "outputs": [],
   "source": [
    "html_soup = requests.get(\"https://www.practicaespanol.com/noticias/\", headers=headers)\n",
    "parsed_soup = BeautifulSoup(html_soup.content, 'html.parser')"
   ]
  },
  {
   "cell_type": "code",
   "execution_count": 4,
   "metadata": {},
   "outputs": [],
   "source": [
    "# Get total number of pages of articles \n",
    "numberPages = parsed_soup.find('span', {\"class\": \"pages\"}).get_text()"
   ]
  },
  {
   "cell_type": "code",
   "execution_count": 5,
   "metadata": {},
   "outputs": [],
   "source": [
    "# Parse this number as an int\n",
    "numberPages = int(re.search(r'\\w+\\d$', numberPages).group())"
   ]
  },
  {
   "cell_type": "code",
   "execution_count": 9,
   "metadata": {},
   "outputs": [],
   "source": [
    "# Get the number of target URLS\n",
    "targetURLs = []\n",
    "for page in range(1, numberPages + 1):\n",
    "    targetURL = \"https://www.practicaespanol.com/noticias/page/\" + str(page) + \"/\"\n",
    "    targetURLs.append(targetURL)"
   ]
  },
  {
   "cell_type": "code",
   "execution_count": 8,
   "metadata": {},
   "outputs": [
    {
     "ename": "IndentationError",
     "evalue": "unexpected indent (<ipython-input-8-4ae4df015c7b>, line 2)",
     "output_type": "error",
     "traceback": [
      "\u001b[0;36m  File \u001b[0;32m\"<ipython-input-8-4ae4df015c7b>\"\u001b[0;36m, line \u001b[0;32m2\u001b[0m\n\u001b[0;31m    html_soup = requests.get(targetURL, headers=headers)\u001b[0m\n\u001b[0m    ^\u001b[0m\n\u001b[0;31mIndentationError\u001b[0m\u001b[0;31m:\u001b[0m unexpected indent\n"
     ]
    }
   ],
   "source": [
    "# Loop through all of the pages and get the meta data\n",
    "for targetURL in targetURLs:\n",
    "    html_soup = requests.get(targetURL, headers=headers)\n",
    "    parsed_soup = BeautifulSoup(html_soup.content, 'html.parser')"
   ]
  },
  {
   "cell_type": "code",
   "execution_count": 11,
   "metadata": {},
   "outputs": [],
   "source": [
    "html_soup = requests.get('https://www.practicaespanol.com/noticias/page/21/', headers=headers)\n",
    "parsed_soup = BeautifulSoup(html_soup.content, 'html.parser')"
   ]
  },
  {
   "cell_type": "code",
   "execution_count": 15,
   "metadata": {},
   "outputs": [],
   "source": [
    "# This corresponds to the box on each article\n",
    "article = parsed_soup.find_all('article')[0]"
   ]
  },
  {
   "cell_type": "code",
   "execution_count": 21,
   "metadata": {},
   "outputs": [
    {
     "data": {
      "text/plain": [
       "'El pueblo de Suiza que una vez cada 25 años se regala una fiesta vitivinícola de unos 100 millones de francos'"
      ]
     },
     "execution_count": 21,
     "metadata": {},
     "output_type": "execute_result"
    }
   ],
   "source": [
    "# Get title\n",
    "article.find('h2', {'class': 'entry-title'}).get_text()"
   ]
  },
  {
   "cell_type": "code",
   "execution_count": 23,
   "metadata": {},
   "outputs": [
    {
     "data": {
      "text/plain": [
       "'Viajes '"
      ]
     },
     "execution_count": 23,
     "metadata": {},
     "output_type": "execute_result"
    }
   ],
   "source": [
    "# Get category\n",
    "article.find('span', {'class': 'categoria2'}).get_text()"
   ]
  },
  {
   "cell_type": "code",
   "execution_count": 34,
   "metadata": {},
   "outputs": [
    {
     "data": {
      "text/plain": [
       "'C1'"
      ]
     },
     "execution_count": 34,
     "metadata": {},
     "output_type": "execute_result"
    }
   ],
   "source": [
    "# Get level\n",
    "level = [img['alt'] for img in article.find_all('img', alt=True) if 'Nivel' in img['alt']]\n",
    "level = level[0][-2:]"
   ]
  },
  {
   "cell_type": "code",
   "execution_count": 55,
   "metadata": {},
   "outputs": [
    {
     "data": {
      "text/plain": [
       "'https://www.practicaespanol.com/el-pueblo-de-suiza-que-una-vez-cada-25-anos-se-regala-una-fiesta-del-vino-de-unos-100-millones-de-francos/'"
      ]
     },
     "execution_count": 55,
     "metadata": {},
     "output_type": "execute_result"
    }
   ],
   "source": [
    "# Get link\n",
    "link = article.find('h2', {'class': 'entry-title'}).findChild(\"a\" , recursive=False, href=True)\n",
    "link = link['href']"
   ]
  },
  {
   "cell_type": "code",
   "execution_count": null,
   "metadata": {},
   "outputs": [],
   "source": []
  },
  {
   "cell_type": "code",
   "execution_count": 174,
   "metadata": {},
   "outputs": [],
   "source": [
    "article_text = 'https://www.practicaespanol.com/los-refugiados-venezolanos-que-en-brasil-disputan-la-comida-a-buitres-y-perros/'\n",
    "html_soup = requests.get(article_text, headers=headers)\n",
    "parsed_soup = BeautifulSoup(html_soup.content, 'html.parser')"
   ]
  },
  {
   "cell_type": "code",
   "execution_count": 175,
   "metadata": {},
   "outputs": [],
   "source": [
    "# Remove HTML page\n",
    "try:\n",
    "    for script in parsed_soup('script'):\n",
    "        script.decompose()\n",
    "except:\n",
    "    pass"
   ]
  },
  {
   "cell_type": "code",
   "execution_count": 176,
   "metadata": {},
   "outputs": [],
   "source": [
    "# Get date"
   ]
  },
  {
   "cell_type": "code",
   "execution_count": 177,
   "metadata": {},
   "outputs": [
    {
     "data": {
      "text/plain": [
       "'18 de febrero de 2020'"
      ]
     },
     "execution_count": 177,
     "metadata": {},
     "output_type": "execute_result"
    }
   ],
   "source": [
    "coloredSpans = parsed_soup.find_all('span', attrs={'style': 'color: #993366;'})\n",
    "targetColorSan = [span.get_text() for span in coloredSpans if 'EFE/PracticaEspañol' in span.get_text()]\n",
    "date = targetColorSan[0].split(',')[0]\n",
    "date"
   ]
  },
  {
   "cell_type": "code",
   "execution_count": 178,
   "metadata": {},
   "outputs": [
    {
     "data": {
      "text/plain": [
       "'Joedson Alves / Pacaraima (Brasil) /  Un grupo de refugiados venezolanos montó una pequeña villa en el basurero municipal de Pacaraima, la ciudad brasileña en la frontera con Venezuela, en donde prácticamente disputa restos de comida con buitres y perros.'"
      ]
     },
     "execution_count": 178,
     "metadata": {},
     "output_type": "execute_result"
    }
   ],
   "source": [
    "# Get resumen\n",
    "resumen = parsed_soup.find('h2').get_text()\n",
    "resumen = unicodedata.normalize(\"NFKD\", resumen)\n",
    "resumen"
   ]
  },
  {
   "cell_type": "code",
   "execution_count": 179,
   "metadata": {},
   "outputs": [],
   "source": [
    "# Get article text\n",
    "# Get all the ps in the aticle conent\n",
    "textChunks = parsed_soup.find('div', {'class': 'entry-content'}).findChildren(\"p\")"
   ]
  },
  {
   "cell_type": "code",
   "execution_count": 180,
   "metadata": {},
   "outputs": [],
   "source": [
    "article_text = \" \".join([chunk.get_text() for chunk in textChunks]).replace(\"\\n\", \"\")"
   ]
  },
  {
   "cell_type": "code",
   "execution_count": 181,
   "metadata": {},
   "outputs": [],
   "source": [
    "article_text = unicodedata.normalize(\"NFKD\", article_text).strip()"
   ]
  },
  {
   "cell_type": "code",
   "execution_count": 182,
   "metadata": {},
   "outputs": [
    {
     "data": {
      "text/plain": [
       "'En unas seis pequeñas viviendas fabricadas con material de desecho y escondidas en un pequeño bosque en medio del basurero de Pacaraima, viven unos cuarenta refugiados venezolanos, según pudo constatar Efe en una visita al lugar, ubicado a unos 10 kilómetros de la frontera entre ambos países. Pacaraima, el único paso en los casi 2.200 kilómetros de frontera terrestre entre Brasil y Venezuela, recibe diariamente unos 400 venezolanos que huyen de la crisis económica, política, social y humanitaria de su país. Y muchos, sin recursos para continuar hacia Boa Vista, la capital del estado de Roraima, terminan estableciéndose en Pacaraima y sus alrededores, para vivir de lo que pueden, lo que ha generado tensión por el aumento de la violencia en la región y ha provocado hasta ataques xenófobos. Pese a que aseguran que se dedican a rebuscar entre la basura latas, metales, cartones y otros materiales reciclables que pueden ser revendidos, los venezolanos establecidos en el basurero no esconden que también buscan comida para su propio consumo. Uno de ellos ni se importó con las cámaras filmándolo en el momento en que rasgaba una bolsa con pedazos de pollo congelado sin condiciones de consumo de la que emanaba un olor nauseabundo y de la que separó las que consideraba menos dañadas. Las más podridas las arrojaba lejos e inmediatamente eran disputadas por perros y buitres. Una vez separadas las escondió en un recipiente que tapó con otras basuras para impedir que los animales le robaran su tesoro. Pese a que a simple vista el basurero parece vacío, y desde la carretera tan sólo se observan las montañas de basuras y numerosos perros y buitres, un recorrido por su interior permite ir encontrando grupos de personas removiendo objetos. Tres jóvenes de entre unos 17 y unos 23 años prendieron una fogata con desechos para calentar lo que llamaron de desayuno y que consistía en un plato de espaguetis y otro de carne enlatada que no dijeron de dónde procedía y que comieron sin importarse con la presencia de periodistas. “Recogemos materiales como cobre y aluminio para sobrevivir. Ahora llevamos cuadro días aquí, pero vamos y venimos. Algunas veces duramos dos o tres semanas aquí. El cobre y el aluminio lo vendemos aquí”, afirmó a Efe uno de los jóvenes. “Aunque no lo parezca, aquí estamos bien. Apenas venimos a buscar la platica porque en nuestro país no conseguimos empleo”, agregó otro de los recicladores, que se identificaron como Júnior José, Julio Medina y Leonel González. Los tres admitieron que la comida que encuentran a veces la consumen si está en buenas condiciones pero que nunca la llevan a sus familias porque puede ser perjudicial para los niños. Agregaron que lo más difícil es la hostilidad que sienten en las calles, ya que muchos brasileños los insultan y los amenazan. La aparente calma en el basurero es interrumpida dos veces por día cuando un camión trae la basura procedente de Pacaraima y la arroja al depósito sanitario. En ese momento se produce una correría de inmigrantes interesados en lo que puedan rescatar de la basura recién llegada y que retiran de las bolsas que rasgan a la fuerza. Una incursión más profunda permite descubrir la pequeña villa que los venezolanos construyeron en medio de un bosque y a la que se llega por un camino tapizados de basuras. Los frondosos árboles no permiten percibir las viviendas construidas en medio del basurero ni las condiciones en que viven sus propietarios, todos refugiados venezolanos y entre los que destacan varios niños y adolescentes. Gran parte de los venezolanos que huyen del hambre, la falta de trabajo y la escasez de alimentos en su país cruza la frontera por Pacaraima y continúa hacia Boa Vista, desde donde, con el apoyo del Gobierno brasileño, son trasladados a otros centros urbanos de Brasil, como Sao Paulo, Río de Janeiro o Recife. Según datos oficiales, al menos 264.000 venezolanos que huyeron de su país e ingresaron a Brasil ya solicitaron la regularización de su situación migratoria en el país. De acuerdo con la ONU, unos cuatro millones de venezolanos han salido de su país rumbo a otros lugares del mundo desde finales de 2015, en uno de los mayores flujos migratorios del planeta. (18 de febrero de 2020, EFE/PracticaEspañol) La noticia relacionada en vídeo (junio 2019):  Vocabulary'"
      ]
     },
     "execution_count": 182,
     "metadata": {},
     "output_type": "execute_result"
    }
   ],
   "source": [
    "article_text"
   ]
  },
  {
   "cell_type": "code",
   "execution_count": null,
   "metadata": {},
   "outputs": [],
   "source": []
  }
 ],
 "metadata": {
  "kernelspec": {
   "display_name": "Python 3",
   "language": "python",
   "name": "python3"
  },
  "language_info": {
   "codemirror_mode": {
    "name": "ipython",
    "version": 3
   },
   "file_extension": ".py",
   "mimetype": "text/x-python",
   "name": "python",
   "nbconvert_exporter": "python",
   "pygments_lexer": "ipython3",
   "version": "3.7.3"
  }
 },
 "nbformat": 4,
 "nbformat_minor": 4
}
