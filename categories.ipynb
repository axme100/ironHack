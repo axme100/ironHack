{
 "cells": [
  {
   "cell_type": "markdown",
   "metadata": {},
   "source": [
    "# Map URL categories to fixed categories"
   ]
  },
  {
   "cell_type": "markdown",
   "metadata": {},
   "source": [
    "The purpose of this script is to map variable categories in the URL paths\n",
    "to fixed categories that will be used by the api-end-point"
   ]
  },
  {
   "cell_type": "markdown",
   "metadata": {},
   "source": [
    "TODO: For El País Especially, The URLS are not fixed so I should just check all parts of the url path for every url, perhaps eliminating the need for a targeturl parameter all together"
   ]
  },
  {
   "cell_type": "markdown",
   "metadata": {},
   "source": [
    "TODO: FINISH WITH OTHER TWO PERIODICALS, USE PICKLE TO SAVE THE Python dictionary\n",
    "TODO: IMPLEMENT ANOTHER FUNCTION THAT ACTUALLY TAGS THE DATABASE"
   ]
  },
  {
   "cell_type": "code",
   "execution_count": 46,
   "metadata": {},
   "outputs": [],
   "source": [
    "import pymongo\n",
    "import pandas as pd\n",
    "import os\n",
    "from urllib.parse import urlparse, parse_qs\n",
    "\n",
    "# This option allows you to see all of the columns\n",
    "pd.set_option('display.max_columns', None)\n",
    "\n",
    "# This option allows you to see the entire URL, for example\n",
    "pd.options.display.max_colwidth = 200"
   ]
  },
  {
   "cell_type": "code",
   "execution_count": 92,
   "metadata": {},
   "outputs": [],
   "source": [
    "# This function is used to extract categories from URL paths\n",
    "# Also return example URL from each category\n",
    "def get_category_from_url(target_publication, path_number):\n",
    "    \n",
    "    subset = data[data['publication']==target_publication]\n",
    "    \n",
    "    categories = []\n",
    "    \n",
    "    examples = {}\n",
    "\n",
    "    for i in range(0, len(subset)):\n",
    "        \n",
    "        targetURL = subset['url'].iloc[i]\n",
    "        parsed_url = urlparse(targetURL)\n",
    "        parsed = parsed_url.path\n",
    "        local_category = parsed.split('/')[path_number]\n",
    "        categories.append(local_category)\n",
    "        \n",
    "        examples[local_category] = targetURL\n",
    "\n",
    "    categories = pd.DataFrame(categories)\n",
    "    return (categories[0].value_counts(), examples.values())"
   ]
  },
  {
   "cell_type": "code",
   "execution_count": 93,
   "metadata": {},
   "outputs": [],
   "source": [
    "mongoPass = os.environ['mongoPass']\n",
    "myclient = pymongo.MongoClient(\"mongodb+srv://axme100:{}@cluster0-5jopz.mongodb.net/test?retryWrites=true&w=majority\".format(mongoPass))\n",
    "mydb = myclient[\"finalProject\"]\n",
    "# Create a new colection called raw article\n",
    "mycol = mydb[\"rawArticles\"]\n",
    "cursor = mycol.find()\n",
    "data = pd.DataFrame(list(cursor))"
   ]
  },
  {
   "cell_type": "markdown",
   "metadata": {},
   "source": [
    "# EFE (España)"
   ]
  },
  {
   "cell_type": "code",
   "execution_count": 86,
   "metadata": {},
   "outputs": [
    {
     "name": "stdout",
     "output_type": "stream",
     "text": [
      "deportes-redes-sociales    342\n",
      "deportes                   170\n",
      "sociedad                   141\n",
      "cultura                    122\n",
      "politica                   102\n",
      "economia                    93\n",
      "portada                     63\n",
      "practicodeporte             61\n",
      "mundo                       54\n",
      "gente                       45\n",
      "destacada                   32\n",
      "efemotor                    26\n",
      "efefuturo                   20\n",
      "efeempresas                 15\n",
      "efeestilo                   10\n",
      "mexico-empresas              6\n",
      "comunicados                  6\n",
      "reportajes                   5\n",
      "mexico                       4\n",
      "efeverifica                  3\n",
      "efeemprende                  3\n",
      "efetur                       2\n",
      "Name: 0, dtype: int64\n"
     ]
    }
   ],
   "source": [
    "efe_espana = get_category_from_url('EFE (España)', 3)\n",
    "print(efe_espana)"
   ]
  },
  {
   "cell_type": "code",
   "execution_count": 79,
   "metadata": {},
   "outputs": [],
   "source": [
    "efe_espana_terms = {'deportes-redes-sociales': 'deportes',\n",
    "'deportes': 'deportes',\n",
    "'sociedad': 'cultura-sociedad',\n",
    "'cultura': 'cultura-sociedad',\n",
    "'politica': 'política',\n",
    "'economia': 'economía',\n",
    "'portada': 'otro',\n",
    "'practicodeporte': 'deportes',\n",
    "'mundo': 'mundo',\n",
    "'gente': 'chisme',\n",
    "'destacada': 'otro',\n",
    "'efemotor': 'tecnología',\n",
    "'efefuturo': 'tecnología',\n",
    "'efeempresas': 'negocio',\n",
    "'efeestilo': 'moda',\n",
    "'mexico-empresas': 'méxico',\n",
    "'comunicados': 'otro',\n",
    "'reportajes': 'otro',\n",
    "'mexico': 'méxico',\n",
    "'efeverifica': 'otro',\n",
    "'efeemprende': 'otro',\n",
    "'efetur': 'otro'}"
   ]
  },
  {
   "cell_type": "code",
   "execution_count": 87,
   "metadata": {},
   "outputs": [
    {
     "data": {
      "text/plain": [
       "sociedad                   237\n",
       "deportes                   200\n",
       "cultura                    114\n",
       "mexico                     101\n",
       "politica                    96\n",
       "economia                    88\n",
       "mundo                       62\n",
       "gente                       21\n",
       "comunicados                 21\n",
       "reportajes                   6\n",
       "tecnologia                   5\n",
       "portada                      3\n",
       "deportes-redes-sociales      1\n",
       "Name: 0, dtype: int64"
      ]
     },
     "execution_count": 87,
     "metadata": {},
     "output_type": "execute_result"
    }
   ],
   "source": [
    "efe_america = get_category_from_url('EFE (América)', 3)\n",
    "efe_america"
   ]
  },
  {
   "cell_type": "code",
   "execution_count": 88,
   "metadata": {},
   "outputs": [],
   "source": [
    "efe_america_terms = {\"sociedad\": \"mundo\",\n",
    "\"deportes\": \"deportes\",\n",
    "\"cultura\": \"mundo\",\n",
    "\"mexico\": \"méxico\",\n",
    "\"politica\": \"politica\",\n",
    "\"economia\": \"economía\",\n",
    "\"mundo\": \"mundo\",\n",
    "\"gente\": \"chisme\",\n",
    "\"comunicados\": \"otro\",\n",
    "\"reportajes\": \"otro\",\n",
    "\"tecnologia\": \"tecnología\",\n",
    "\"portada\": \"otro\",\n",
    "\"deportes-redes-sociales\": \"deportes\"}"
   ]
  },
  {
   "cell_type": "code",
   "execution_count": 96,
   "metadata": {},
   "outputs": [
    {
     "data": {
      "text/plain": [
       "(elpais           43\n",
       " internacional    41\n",
       " cultura          23\n",
       " economia         17\n",
       " sociedad         13\n",
       " verne             8\n",
       " deportes          6\n",
       " retina            4\n",
       " elviajero         2\n",
       " cincodias         1\n",
       " elcomidista       1\n",
       " politica          1\n",
       " mrss-s            1\n",
       " Name: 0, dtype: int64,\n",
       " dict_values(['https://elpais.com/internacional/2020/02/01/actualidad/1580571998_684729.html', 'https://elpais.com/elpais/2020/02/11/ciencia/1581443372_576855.html', 'https://elpais.com/cultura/2020/02/26/babelia/1582720365_799984.html', 'https://elpais.com/sociedad/2020/02/18/actualidad/1582046433_957378.html', 'https://elpais.com/economia/2020/02/26/actualidad/1582757467_752010.html', 'https://verne.elpais.com/verne/2019/11/30/mexico/1575076665_430100.html', 'https://elviajero.elpais.com/elviajero/2019/01/03/actualidad/1546530533_905999.html', 'https://elcomidista.elpais.com/elcomidista/2020/01/10/receta/1578676438_261516.html', 'https://elpais.com/deportes/2020/02/25/actualidad/1582652211_376866.html', 'https://cincodias.elpais.com/cincodias/2020/02/22/companias/1582376051_402246.html', 'https://retina.elpais.com/retina/2020/02/24/innovacion/1582561513_394553.html', 'https://feeds.elpais.com/mrss-s/pages/ep/site/elpais.com/section/america/Orgullo Gay: 25 frases aparentemente inofensivas que la comunidad LGTB sigue oyendo a diario', 'https://elpais.com/politica/2020/02/03/actualidad/1580762210_362532.html']))"
      ]
     },
     "execution_count": 96,
     "metadata": {},
     "output_type": "execute_result"
    }
   ],
   "source": [
    "el_pais_america = get_category_from_url('El país (América)', 1)\n",
    "el_pais_america"
   ]
  },
  {
   "cell_type": "code",
   "execution_count": 97,
   "metadata": {},
   "outputs": [],
   "source": [
    "el_pais_america_terms = {\"elpais\": \"otro\",\n",
    "\"internacional\": \"mundo\",\n",
    "\"cultura\": \"cultura-sociedad\",\n",
    "\"economia\": \"economía\",\n",
    "\"sociedad\": \"cultura-sociedad\",\n",
    "\"verne\": \"otro\",\n",
    "\"deportes\": \"deportes\",\n",
    "\"retina\": \"otro\",\n",
    "\"elviajero\": \"viajes\",\n",
    "\"cincodias\": \"cat\",\n",
    "\"elcomidista\": \"otro\",\n",
    "\"politica\": \"política\",\n",
    "\"mrss-s\": \"otro\"}"
   ]
  },
  {
   "cell_type": "code",
   "execution_count": 98,
   "metadata": {},
   "outputs": [
    {
     "data": {
      "text/plain": [
       "(elpais           241\n",
       " cultura           87\n",
       " politica          84\n",
       " sociedad          72\n",
       " deportes          64\n",
       " internacional     60\n",
       " economia          57\n",
       " ccaa              32\n",
       " verne             16\n",
       " retina            11\n",
       " cat               10\n",
       " elviajero          9\n",
       " cincodias          7\n",
       " elcomidista        7\n",
       " tecnologia         7\n",
       " a                  1\n",
       " diario             1\n",
       " mrss-s             1\n",
       " dynclick           1\n",
       " Name: 0, dtype: int64,\n",
       " dict_values(['https://elpais.com/politica/2020/02/26/actualidad/1582734060_687396.html', 'https://elpais.com/internacional/2020/02/27/actualidad/1582758211_749377.html', 'https://elpais.com/sociedad/2020/02/26/actualidad/1582701836_703293.html', 'https://cincodias.elpais.com/cincodias/2020/02/25/companias/1582659333_790183.html', 'https://elpais.com/cultura/2020/02/26/television/1582733977_830757.html', 'https://elpais.com/elpais/2020/02/19/eps/1582134012_775181.html', 'https://elpais.com/economia/2020/02/26/actualidad/1582749120_023113.html', 'https://elpais.com/ccaa/2019/08/04/madrid/1564938209_490972.html?rel=mas', 'https://cat.elpais.com/cat/2020/02/26/cultura/1582730431_121143.html', 'https://retina.elpais.com/retina/2018/02/16/tendencias/1518775340_230165.html', 'https://elpais.com/tecnologia/2019/11/02/actualidad/1572657400_046363.html', 'https://elpais.com/deportes/2020/02/26/actualidad/1582724620_430768.html', 'https://verne.elpais.com/verne/2018/01/29/articulo/1517235036_676717.html', 'https://elviajero.elpais.com/elviajero/2018/04/12/actualidad/1523531477_279344.html', 'https://elcomidista.elpais.com/elcomidista/2018/12/12/articulo/1544576907_976071.html', 'https://tpa7.iahorro.com/dynclick/iahorro-com/?esc-publisher=MediosExternos&esc-name=MediosExternos-ORG_PRT_Febrero_Articulo&esc-location=ELPAIS-Textlink&esc-creative=Textlink-Textlink&esc-creativetype=Textlink&eurl=https%3A%2F%2Fwww.iahorro.com%2Fahorro%2Feducacion-financiera%2Fte_han_pedido_ser_avalista_en_un_prestamo_esto_es_lo_que_debes_tener_en_cuenta.html%3Futm_source%3DELPAIS%26utm_medium%3DMEXT%26utm_campaign%3DCRE_BRAND_FEBRERO_ARTICULO', 'https://feeds.elpais.com/mrss-s/pages/ep/site/elpais.com/Orgullo Gay: 25 frases aparentemente inofensivas que la comunidad LGTB sigue oyendo a diario', 'https://elpais.com/diario/2005/07/24/eps/1122186410_850215.html', 'https://elpais.com/a/2020/02/25/actualidad/1582647449_567923.html']))"
      ]
     },
     "execution_count": 98,
     "metadata": {},
     "output_type": "execute_result"
    }
   ],
   "source": [
    "el_pais_espana = get_category_from_url('El país (España)', 1)\n",
    "el_pais_espana"
   ]
  },
  {
   "cell_type": "code",
   "execution_count": null,
   "metadata": {},
   "outputs": [],
   "source": [
    "el_pais_espana_terms = {\"elpais\": \"cat\",\n",
    "\"cultura\": \"cat\",\n",
    "\"politica\": \"cat\",\n",
    "\"sociedad\": \"cat\",\n",
    "\"deportes\": \"cat\",\n",
    "\"internacional\": \"cat\",\n",
    "\"economia\": \"cat\",\n",
    "\"ccaa\": \"cat\",\n",
    "\"verne\": \"cat\",\n",
    "\"retina\": \"cat\",\n",
    "\"cat\": \"cat\",\n",
    "\"elviajero\": \"cat\",\n",
    "\"cincodias\": \"cat\",\n",
    "\"elcomidista\": \"cat\",\n",
    "\"tecnologia\": \"cat\",\n",
    "\"a\": \"cat\",\n",
    "\"diario\": \"cat\",\n",
    "\"mrss-s\": \"cat\",\n",
    "\"dynclick\": \"cat\"}"
   ]
  },
  {
   "cell_type": "code",
   "execution_count": 99,
   "metadata": {},
   "outputs": [
    {
     "data": {
      "text/plain": [
       "(nacional       327\n",
       " comunidad      208\n",
       " adrenalina     195\n",
       " global         141\n",
       " funcion        140\n",
       " opinion         95\n",
       " trending        58\n",
       " expresiones     23\n",
       " hacker           5\n",
       " multimedia       1\n",
       " Name: 0, dtype: int64,\n",
       " dict_values(['https://www.excelsior.com.mx/adrenalina/continua-el-sueno-de-renata-zarazua-en-acapulco/1366544', 'https://www.excelsior.com.mx/comunidad/cae-banda-que-asaltaba-a-usuarios-de-transporte-en-periferico-y-constituyentes/1366539', 'https://www.excelsior.com.mx/funcion/papas-piden-boicot-a-nfl-por-show-obsceno-y-vulgar-de-jlo-con-shakira/1366513', 'https://www.excelsior.com.mx/global/esta-es-la-recomendacion-de-trump-contra-el-coronavirus/1366550', 'https://www.excelsior.com.mx/nacional/cndh-elige-a-lovera-y-a-ackerman-para-evaluar-a-aspirantes-al-ine/1366543', 'https://www.excelsior.com.mx/trending/se-una-dama-video-que-exhibe-estereotipos-que-mujeres-viven-a-diario/1366523', 'https://www.excelsior.com.mx/hacker/tienes-una-computadora-podrias-ayudar-con-un-gran-misterio/1366466', 'https://www.excelsior.com.mx/multimedia/esto-dijo-la-tia-de-uno-de-los-vinculados-al-caso-fatima/1365352', 'https://www.excelsior.com.mx/expresiones/erendira-yaretzi-la-nina-arpista-que-dara-un-concierto-en-new-york/1366377', 'https://www.excelsior.com.mx/opinion/armando-salinas-torre/el-coronavirus-liderazgo-a-prueba/1366318']))"
      ]
     },
     "execution_count": 99,
     "metadata": {},
     "output_type": "execute_result"
    }
   ],
   "source": [
    "excelsior = get_category_from_url('Excelsior', 1)\n",
    "excelsior"
   ]
  },
  {
   "cell_type": "code",
   "execution_count": null,
   "metadata": {},
   "outputs": [],
   "source": [
    "excelsior_terms = {\"nacional\": \"cate\",\n",
    "\"comunidad\": \"cate\",\n",
    "\"adrenalina\": \"cate\",\n",
    "\"global\": \"cate\",\n",
    "\"funcion\": \"cate\",\n",
    "\"opinion\": \"cate\",\n",
    "\"trending\": \"cate\",\n",
    "\"expresiones\": \"cate\",\n",
    "\"hacker\": \"cate\",\n",
    "\"multimedia\": \"cate\"}"
   ]
  },
  {
   "cell_type": "code",
   "execution_count": 100,
   "metadata": {},
   "outputs": [
    {
     "data": {
      "text/plain": [
       "(politica        211\n",
       " deportes         85\n",
       " sociedad         63\n",
       " estados          61\n",
       " economia         60\n",
       " capital          52\n",
       " opinion          48\n",
       " mundo            43\n",
       " cultura          41\n",
       " espectaculos     30\n",
       " index.php        19\n",
       " ciencias          9\n",
       " Name: 0, dtype: int64,\n",
       " dict_values(['https://www.jornada.com.mx/2020/02/26/opinion/020o1eco?partner=rss', 'https://www.jornada.com.mx/2020/02/26/deportes/a10n2dep?partner=rss', 'https://www.jornada.com.mx/2020/02/26/politica/003n2pol?partner=rss', 'https://www.jornada.com.mx/2020/02/26/espectaculos/a08n1esp?partner=rss', 'https://www.jornada.com.mx/2020/02/26/estados/025n2est?partner=rss', 'https://www.jornada.com.mx/2020/02/26/mundo/023n2mun?partner=rss', 'https://www.jornada.com.mx/2020/02/26/economia/020n2eco?partner=rss', 'https://www.jornada.com.mx/2020/02/26/sociedad/031n2soc?partner=rss', 'https://www.jornada.com.mx/2020/02/26/ciencias/a02n1cie?partner=rss', 'https://www.jornada.com.mx/2020/02/26/cultura/a06n2cul?partner=rss', 'https://www.jornada.com.mx/2020/02/26/capital/030n3cap?partner=rss', 'https://www.jornada.com.mx/2020/02/26/index.php?section=cartones&id=3&partner=rss']))"
      ]
     },
     "execution_count": 100,
     "metadata": {},
     "output_type": "execute_result"
    }
   ],
   "source": [
    "la_jornada = get_category_from_url('La Jornada', 4)\n",
    "la_jornada"
   ]
  },
  {
   "cell_type": "code",
   "execution_count": null,
   "metadata": {},
   "outputs": [],
   "source": [
    "la_jornada_terms = {\"politica\": \"cat\",\n",
    "\"deportes\": \"cat\",\n",
    "\"sociedad\": \"cat\",\n",
    "\"estados\": \"cat\",\n",
    "\"economia\": \"cat\",\n",
    "\"capital\": \"cat\",\n",
    "\"opinion\": \"cat\",\n",
    "\"mundo\": \"cat\",\n",
    "\"cultura\": \"cat\",\n",
    "\"espectaculos\": \"cat\",\n",
    "\"index.php\": \"cat\",\n",
    "\"ciencias\": \"cat\"}"
   ]
  }
 ],
 "metadata": {
  "kernelspec": {
   "display_name": "Python 3",
   "language": "python",
   "name": "python3"
  },
  "language_info": {
   "codemirror_mode": {
    "name": "ipython",
    "version": 3
   },
   "file_extension": ".py",
   "mimetype": "text/x-python",
   "name": "python",
   "nbconvert_exporter": "python",
   "pygments_lexer": "ipython3",
   "version": "3.7.6"
  }
 },
 "nbformat": 4,
 "nbformat_minor": 4
}
