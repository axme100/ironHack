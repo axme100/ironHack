{
 "cells": [
  {
   "cell_type": "code",
   "execution_count": 22,
   "metadata": {},
   "outputs": [],
   "source": [
    "import pymongo\n",
    "import pandas as pd\n",
    "import os\n",
    "from urllib.parse import urlparse, parse_qs\n",
    "\n",
    "# This option allows you to see all of the columns\n",
    "pd.set_option('display.max_columns', None)\n",
    "\n",
    "# This option allows you to see the entire URL, for example\n",
    "pd.options.display.max_colwidth = 200"
   ]
  },
  {
   "cell_type": "code",
   "execution_count": 23,
   "metadata": {},
   "outputs": [],
   "source": [
    "# This function is used to extract categories from URL paths\n",
    "def get_category_from_url(target_publication, path_number):\n",
    "    \n",
    "    subset = data[data['publication']==target_publication]\n",
    "    \n",
    "    categories = []\n",
    "\n",
    "    for i in range(0, len(subset)):\n",
    "        testURL = subset['url'].iloc[i]\n",
    "        parsed_url = urlparse(testURL)\n",
    "        parsed = parsed_url.path\n",
    "        local_category = parsed.split('/')[path_number]\n",
    "        categories.append(local_category)\n",
    "\n",
    "    categories = pd.DataFrame(categories)\n",
    "    return categories[0].value_counts()"
   ]
  },
  {
   "cell_type": "code",
   "execution_count": 24,
   "metadata": {},
   "outputs": [],
   "source": [
    "mongoPass = os.environ['mongoPass']\n",
    "myclient = pymongo.MongoClient(\"mongodb+srv://axme100:{}@cluster0-5jopz.mongodb.net/test?retryWrites=true&w=majority\".format(mongoPass))\n",
    "mydb = myclient[\"finalProject\"]\n",
    "# Create a new colection called raw article\n",
    "mycol = mydb[\"rawArticles\"]\n",
    "cursor = mycol.find()\n",
    "data = pd.DataFrame(list(cursor))"
   ]
  },
  {
   "cell_type": "code",
   "execution_count": 25,
   "metadata": {},
   "outputs": [],
   "source": [
    "efe_espana = get_category_from_url('EFE (España)', 3)\n",
    "efe_espana.to_csv('efe_espana.csv')"
   ]
  },
  {
   "cell_type": "code",
   "execution_count": 26,
   "metadata": {},
   "outputs": [],
   "source": [
    "efe_america = get_category_from_url('EFE (América)', 3)\n",
    "efe_america.to_csv('efe_america.csv')"
   ]
  },
  {
   "cell_type": "code",
   "execution_count": 27,
   "metadata": {},
   "outputs": [],
   "source": [
    "el_pais_america = get_category_from_url('El país (América)', 1)\n",
    "el_pais_america.to_csv('el_pais_america.csv')"
   ]
  },
  {
   "cell_type": "code",
   "execution_count": 28,
   "metadata": {},
   "outputs": [],
   "source": [
    "el_pais_espana = get_category_from_url('El país (España)', 1)\n",
    "el_pais_espana.to_csv('el_pais_espana.csv')"
   ]
  },
  {
   "cell_type": "code",
   "execution_count": 29,
   "metadata": {},
   "outputs": [],
   "source": [
    "excelsior = get_category_from_url('Excelsior', 1)\n",
    "excelsior.to_csv('excelsior.csv')"
   ]
  },
  {
   "cell_type": "code",
   "execution_count": 30,
   "metadata": {},
   "outputs": [],
   "source": [
    "la_jornada = get_category_from_url('La Jornada', 4)\n",
    "la_jornada.to_csv('la_jornada.csv')"
   ]
  }
 ],
 "metadata": {
  "kernelspec": {
   "display_name": "Python 3",
   "language": "python",
   "name": "python3"
  },
  "language_info": {
   "codemirror_mode": {
    "name": "ipython",
    "version": 3
   },
   "file_extension": ".py",
   "mimetype": "text/x-python",
   "name": "python",
   "nbconvert_exporter": "python",
   "pygments_lexer": "ipython3",
   "version": "3.7.6"
  }
 },
 "nbformat": 4,
 "nbformat_minor": 4
}
