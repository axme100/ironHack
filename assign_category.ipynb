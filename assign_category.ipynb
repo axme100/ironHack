{
 "cells": [
  {
   "cell_type": "markdown",
   "metadata": {},
   "source": [
    "# Assign category based on RSS feed or URL term"
   ]
  },
  {
   "cell_type": "code",
   "execution_count": 6,
   "metadata": {},
   "outputs": [],
   "source": [
    "import pickle\n",
    "from urllib.parse import urlparse, parse_qs"
   ]
  },
  {
   "cell_type": "code",
   "execution_count": 7,
   "metadata": {},
   "outputs": [],
   "source": [
    "import os\n",
    "import pymongo\n",
    "import pandas as pd\n",
    "mongoPass = os.environ['mongoPass']\n",
    "# myclient = pymongo.MongoClient(\"mongodb+srv://axme100:{}@cluster0-5jopz.mongodb.net/test?retryWrites=true&w=majority\".format(mongoPass))\n",
    "myclient = pymongo.MongoClient()\n",
    "mydb = myclient[\"finalProject\"]\n",
    "main = mydb[\"main_processed_article\"]"
   ]
  },
  {
   "cell_type": "markdown",
   "metadata": {},
   "source": [
    "# Get predefined URL TERMS"
   ]
  },
  {
   "cell_type": "code",
   "execution_count": 8,
   "metadata": {},
   "outputs": [],
   "source": [
    "filename = 'url_terms'\n",
    "infile = open(filename,'rb')\n",
    "url_terms = pickle.load(infile)\n",
    "infile.close()"
   ]
  },
  {
   "cell_type": "markdown",
   "metadata": {},
   "source": [
    "# Function to assign terms"
   ]
  },
  {
   "cell_type": "code",
   "execution_count": 9,
   "metadata": {},
   "outputs": [],
   "source": [
    "def get_category_from_url(url, publication):\n",
    "    '''Input: URL and Publication\n",
    "       Output: Discrete category\n",
    "    '''\n",
    "    \n",
    "    # First create a dictionary that will check to see\n",
    "    # If we can just get the category from the XML term\n",
    "    xmlCategories = {'Expansión - Emprendedores': 'negocio',\n",
    "                    'Expansión - Nacional': 'méxico',\n",
    "                    'Expansión - Dinero': 'negocio',\n",
    "                    'Expansión - Carrera': 'negocio',\n",
    "                    'Expansión - Opinión': 'opinión',\n",
    "                    'Expansión - Tecnología': 'tecnología',\n",
    "                    'Expansión - Empresas': 'negocio'}\n",
    "    \n",
    "    # First check to see if the publication is in the dictionary\n",
    "    # That we have created above, if it is then just return it\n",
    "    if publication in xmlCategories:\n",
    "        return xmlCategories[publication]\n",
    "    \n",
    "    # In case it is not, then we need to get the category from the URL\n",
    "    else:\n",
    "        parsed_url = urlparse(url)\n",
    "        parsed = parsed_url.path\n",
    "        potential_paths = parsed.split('/')\n",
    "        \n",
    "        for path in potential_paths:\n",
    "            if path in url_terms:\n",
    "                return url_terms[path]\n",
    "            else:\n",
    "                pass\n",
    "        \n",
    "        return \"otro\"\n",
    "    "
   ]
  },
  {
   "cell_type": "markdown",
   "metadata": {},
   "source": [
    "# Apply function to MONGO DB"
   ]
  },
  {
   "cell_type": "code",
   "execution_count": 10,
   "metadata": {},
   "outputs": [],
   "source": [
    "cursor = main.find({})"
   ]
  },
  {
   "cell_type": "code",
   "execution_count": 11,
   "metadata": {},
   "outputs": [],
   "source": [
    "# Create a new column called cateogry applying the function\n",
    "# raw_article_data['category'] = raw_article_data.apply(lambda x: get_category_from_url(x.url, x.publication), axis=1)"
   ]
  },
  {
   "cell_type": "code",
   "execution_count": 13,
   "metadata": {},
   "outputs": [],
   "source": [
    "for article in cursor:\n",
    "    \n",
    "    # First check if the article has already been classified\n",
    "    myquery = { \"_id\": article['_id'] }\n",
    "    \n",
    "    article_category = list(main.find(myquery, {\"_id\": 0, \"category\": 1}))\n",
    "    article_category = article_category[0]['category']\n",
    "    \n",
    "    # If it has not been classified yet then make a prediction and upate the corresponding field\n",
    "    if not article_category:\n",
    "    \n",
    "        target_category = get_category_from_url(article['url'], article['publication'])\n",
    "        \n",
    "        # See: https://www.w3schools.com/python/python_mongodb_update.asp\n",
    "        newvalues = { \"$set\": { \"category\": target_category } }\n",
    "        main.update_one(myquery, newvalues)\n",
    "    else:\n",
    "        print(\"Article already has category\")"
   ]
  }
 ],
 "metadata": {
  "kernelspec": {
   "display_name": "Python 3",
   "language": "python",
   "name": "python3"
  },
  "language_info": {
   "codemirror_mode": {
    "name": "ipython",
    "version": 3
   },
   "file_extension": ".py",
   "mimetype": "text/x-python",
   "name": "python",
   "nbconvert_exporter": "python",
   "pygments_lexer": "ipython3",
   "version": "3.7.6"
  }
 },
 "nbformat": 4,
 "nbformat_minor": 4
}
