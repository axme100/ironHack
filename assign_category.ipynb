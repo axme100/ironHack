{
 "cells": [
  {
   "cell_type": "code",
   "execution_count": 18,
   "metadata": {},
   "outputs": [],
   "source": [
    "import pickle\n",
    "from urllib.parse import urlparse, parse_qs"
   ]
  },
  {
   "cell_type": "code",
   "execution_count": 2,
   "metadata": {},
   "outputs": [],
   "source": [
    "import os\n",
    "import pymongo\n",
    "import pandas as pd\n",
    "mongoPass = os.environ['mongoPass']\n",
    "myclient = pymongo.MongoClient(\"mongodb+srv://axme100:{}@cluster0-5jopz.mongodb.net/test?retryWrites=true&w=majority\".format(mongoPass))\n",
    "mydb = myclient[\"finalProject\"]\n",
    "# Create a new colection called raw article\n",
    "mycol = mydb[\"rawArticles\"]\n",
    "cursor = mycol.find()\n",
    "raw_article_data = pd.DataFrame(list(cursor))"
   ]
  },
  {
   "cell_type": "code",
   "execution_count": 3,
   "metadata": {},
   "outputs": [],
   "source": [
    "filename = 'url_terms'\n",
    "infile = open(filename,'rb')\n",
    "url_terms = pickle.load(infile)\n",
    "infile.close()"
   ]
  },
  {
   "cell_type": "code",
   "execution_count": 15,
   "metadata": {},
   "outputs": [
    {
     "data": {
      "text/plain": [
       "{'deportes-redes-sociales': 'deportes',\n",
       " 'deportes': 'deportes',\n",
       " 'sociedad': 'cultura-sociedad',\n",
       " 'cultura': 'cultura-sociedad',\n",
       " 'politica': 'política',\n",
       " 'economia': 'economía',\n",
       " 'portada': 'otro',\n",
       " 'practicodeporte': 'deportes',\n",
       " 'mundo': 'mundo',\n",
       " 'gente': 'chisme',\n",
       " 'destacada': 'otro',\n",
       " 'efemotor': 'tecnología',\n",
       " 'efefuturo': 'tecnología',\n",
       " 'efeempresas': 'negocios',\n",
       " 'efeestilo': 'moda',\n",
       " 'mexico-empresas': 'méxico',\n",
       " 'comunicados': 'otro',\n",
       " 'reportajes': 'otro',\n",
       " 'mexico': 'méxico',\n",
       " 'efeverifica': 'otro',\n",
       " 'efeemprende': 'otro',\n",
       " 'efetur': 'otro',\n",
       " 'nacional': 'méxico',\n",
       " 'comunidad': 'cultura-sociedad',\n",
       " 'adrenalina': 'deportes',\n",
       " 'global': 'mundo',\n",
       " 'funcion': 'otro',\n",
       " 'opinion': 'otro',\n",
       " 'trending': 'chisme',\n",
       " 'expresiones': 'chisme',\n",
       " 'hacker': 'tecnología',\n",
       " 'multimedia': 'otro',\n",
       " 'tecnologia': 'tecnología',\n",
       " 'estados': 'méxico',\n",
       " 'capital': 'negocios',\n",
       " 'espectaculos': 'otro',\n",
       " 'index.php': 'otro',\n",
       " 'ciencias': 'tecnología',\n",
       " 'elpais': 'otro',\n",
       " 'internacional': 'mundo',\n",
       " 'ccaa': 'otro',\n",
       " 'verne': 'otro',\n",
       " 'retina': 'otro',\n",
       " 'cat': 'otro',\n",
       " 'elviajero': 'viajes',\n",
       " 'cincodias': 'otro',\n",
       " 'elcomidista': 'otro',\n",
       " 'a': 'otro',\n",
       " 'diario': 'otro',\n",
       " 'mrss-s': 'otro',\n",
       " 'dynclick': 'otro'}"
      ]
     },
     "execution_count": 15,
     "metadata": {},
     "output_type": "execute_result"
    }
   ],
   "source": [
    "url_terms"
   ]
  },
  {
   "cell_type": "code",
   "execution_count": 4,
   "metadata": {},
   "outputs": [
    {
     "data": {
      "text/html": [
       "<div>\n",
       "<style scoped>\n",
       "    .dataframe tbody tr th:only-of-type {\n",
       "        vertical-align: middle;\n",
       "    }\n",
       "\n",
       "    .dataframe tbody tr th {\n",
       "        vertical-align: top;\n",
       "    }\n",
       "\n",
       "    .dataframe thead th {\n",
       "        text-align: right;\n",
       "    }\n",
       "</style>\n",
       "<table border=\"1\" class=\"dataframe\">\n",
       "  <thead>\n",
       "    <tr style=\"text-align: right;\">\n",
       "      <th></th>\n",
       "      <th>_id</th>\n",
       "      <th>url</th>\n",
       "      <th>title</th>\n",
       "      <th>date</th>\n",
       "      <th>publication</th>\n",
       "      <th>articleText</th>\n",
       "      <th>authors</th>\n",
       "      <th>errors</th>\n",
       "    </tr>\n",
       "  </thead>\n",
       "  <tbody>\n",
       "    <tr>\n",
       "      <th>0</th>\n",
       "      <td>5e4eed7d5b0ac2de38a07b19</td>\n",
       "      <td>https://www.excelsior.com.mx/adrenalina/chucky...</td>\n",
       "      <td>‘Chucky’ Lozano no está al cien</td>\n",
       "      <td>2020-02-20 20:32:35</td>\n",
       "      <td>Excelsior</td>\n",
       "      <td>NÁPOLES, Ita.El técnico del Nápoles, Gennar...</td>\n",
       "      <td>arturo.duran</td>\n",
       "      <td>[]</td>\n",
       "    </tr>\n",
       "    <tr>\n",
       "      <th>1</th>\n",
       "      <td>5e4eed7d5b0ac2de38a07b1a</td>\n",
       "      <td>https://www.excelsior.com.mx/comunidad/cuidado...</td>\n",
       "      <td>¡Cuidado! Así aumentó el robo de menores en la...</td>\n",
       "      <td>2020-02-20 20:32:20</td>\n",
       "      <td>Excelsior</td>\n",
       "      <td>CIUDAD DE MÉXICO Durante 2019, la Fiscalía G...</td>\n",
       "      <td>blanca.betan</td>\n",
       "      <td>[]</td>\n",
       "    </tr>\n",
       "    <tr>\n",
       "      <th>2</th>\n",
       "      <td>5e4eed7e5b0ac2de38a07b1b</td>\n",
       "      <td>https://www.excelsior.com.mx/funcion/se-virali...</td>\n",
       "      <td>Se viraliza video inédito de Rammstein tocando...</td>\n",
       "      <td>2020-02-20 20:31:12</td>\n",
       "      <td>Excelsior</td>\n",
       "      <td>CIUDAD DE MÉXICOSi te gusta el metal, y eres ...</td>\n",
       "      <td>magnolia.ramirez</td>\n",
       "      <td>[]</td>\n",
       "    </tr>\n",
       "    <tr>\n",
       "      <th>3</th>\n",
       "      <td>5e4eed7e5b0ac2de38a07b1c</td>\n",
       "      <td>https://www.excelsior.com.mx/global/conoce-a-u...</td>\n",
       "      <td>¡Conoce a una verdadera Reina del carnaval de ...</td>\n",
       "      <td>2020-02-20 20:29:08</td>\n",
       "      <td>Excelsior</td>\n",
       "      <td>RÍO DE JANEIRO, BRASIL. Con su sonrisa radian...</td>\n",
       "      <td>manuel.velazquez</td>\n",
       "      <td>[]</td>\n",
       "    </tr>\n",
       "    <tr>\n",
       "      <th>4</th>\n",
       "      <td>5e4eed7f5b0ac2de38a07b1d</td>\n",
       "      <td>https://www.excelsior.com.mx/comunidad/dicen-a...</td>\n",
       "      <td>Dicen aquí que transexuales tienen 'trastorno ...</td>\n",
       "      <td>2020-02-20 20:27:22</td>\n",
       "      <td>Excelsior</td>\n",
       "      <td>CIUDAD DE MÉXICOEn el Foro “Infancias Trans: ...</td>\n",
       "      <td>blanca.betan</td>\n",
       "      <td>[]</td>\n",
       "    </tr>\n",
       "  </tbody>\n",
       "</table>\n",
       "</div>"
      ],
      "text/plain": [
       "                        _id  \\\n",
       "0  5e4eed7d5b0ac2de38a07b19   \n",
       "1  5e4eed7d5b0ac2de38a07b1a   \n",
       "2  5e4eed7e5b0ac2de38a07b1b   \n",
       "3  5e4eed7e5b0ac2de38a07b1c   \n",
       "4  5e4eed7f5b0ac2de38a07b1d   \n",
       "\n",
       "                                                 url  \\\n",
       "0  https://www.excelsior.com.mx/adrenalina/chucky...   \n",
       "1  https://www.excelsior.com.mx/comunidad/cuidado...   \n",
       "2  https://www.excelsior.com.mx/funcion/se-virali...   \n",
       "3  https://www.excelsior.com.mx/global/conoce-a-u...   \n",
       "4  https://www.excelsior.com.mx/comunidad/dicen-a...   \n",
       "\n",
       "                                               title                date  \\\n",
       "0                    ‘Chucky’ Lozano no está al cien 2020-02-20 20:32:35   \n",
       "1  ¡Cuidado! Así aumentó el robo de menores en la... 2020-02-20 20:32:20   \n",
       "2  Se viraliza video inédito de Rammstein tocando... 2020-02-20 20:31:12   \n",
       "3  ¡Conoce a una verdadera Reina del carnaval de ... 2020-02-20 20:29:08   \n",
       "4  Dicen aquí que transexuales tienen 'trastorno ... 2020-02-20 20:27:22   \n",
       "\n",
       "  publication                                        articleText  \\\n",
       "0   Excelsior  NÁPOLES, Ita.El técnico del Nápoles, Gennar...   \n",
       "1   Excelsior  CIUDAD DE MÉXICO Durante 2019, la Fiscalía G...   \n",
       "2   Excelsior  CIUDAD DE MÉXICOSi te gusta el metal, y eres ...   \n",
       "3   Excelsior  RÍO DE JANEIRO, BRASIL. Con su sonrisa radian...   \n",
       "4   Excelsior  CIUDAD DE MÉXICOEn el Foro “Infancias Trans: ...   \n",
       "\n",
       "            authors errors  \n",
       "0      arturo.duran     []  \n",
       "1      blanca.betan     []  \n",
       "2  magnolia.ramirez     []  \n",
       "3  manuel.velazquez     []  \n",
       "4      blanca.betan     []  "
      ]
     },
     "execution_count": 4,
     "metadata": {},
     "output_type": "execute_result"
    }
   ],
   "source": [
    "raw_article_data.head()"
   ]
  },
  {
   "cell_type": "code",
   "execution_count": 25,
   "metadata": {},
   "outputs": [],
   "source": [
    "def get_category_from_url(url, publication):\n",
    "    '''Input: URL and Publication\n",
    "       Output: Discrete category\n",
    "    '''\n",
    "    \n",
    "    # First create a dictionary that will check to see\n",
    "    # If we can just get the category from the XML term\n",
    "    xmlCategories = {'Expansión - Emprendedores': 'negocio',\n",
    "                    'Expansión - Nacional': 'méxico',\n",
    "                    'Expansión - Dinero': 'negocio',\n",
    "                    'Expansión - Carrera': 'negocio',\n",
    "                    'Expansión - Opinión': 'opinión',\n",
    "                    'Expansión - Tecnología': 'tecnología',\n",
    "                    'Expansión - Empresas': 'negocio'}\n",
    "    \n",
    "    # First check to see if the publication is in the dictionary\n",
    "    # That we have created above, if it is then just return it\n",
    "    if publication in xmlCategories:\n",
    "        return xmlCategories[publication]\n",
    "    \n",
    "    # In case it is not, then we need to get the category from the URL\n",
    "    else:\n",
    "        parsed_url = urlparse(url)\n",
    "        parsed = parsed_url.path\n",
    "        potential_paths = parsed.split('/')\n",
    "        \n",
    "        for path in potential_paths:\n",
    "            if path in url_terms:\n",
    "                return url_terms[path]\n",
    "            else:\n",
    "                pass\n",
    "        \n",
    "        return \"otro\"\n",
    "    "
   ]
  },
  {
   "cell_type": "code",
   "execution_count": 26,
   "metadata": {},
   "outputs": [],
   "source": [
    "# Create a new column called cateogry applying the function\n",
    "raw_article_data['category'] = raw_article_data.apply(lambda x: get_category_from_url(x.url, x.publication), axis=1)"
   ]
  },
  {
   "cell_type": "code",
   "execution_count": 27,
   "metadata": {},
   "outputs": [],
   "source": [
    "# Do a little bit of analyis to make sure that it works safely"
   ]
  },
  {
   "cell_type": "code",
   "execution_count": 28,
   "metadata": {},
   "outputs": [
    {
     "data": {
      "text/plain": [
       "deportes            1425\n",
       "otro                1410\n",
       "cultura-sociedad    1404\n",
       "méxico               784\n",
       "política             639\n",
       "mundo                605\n",
       "economía             439\n",
       "chisme               205\n",
       "negocio              182\n",
       "tecnología           159\n",
       "negocios              95\n",
       "opinión               45\n",
       "viajes                17\n",
       "moda                  14\n",
       "Name: category, dtype: int64"
      ]
     },
     "execution_count": 28,
     "metadata": {},
     "output_type": "execute_result"
    }
   ],
   "source": [
    "raw_article_data['category'].value_counts()"
   ]
  },
  {
   "cell_type": "code",
   "execution_count": 11,
   "metadata": {},
   "outputs": [
    {
     "data": {
      "text/plain": [
       "7423"
      ]
     },
     "execution_count": 11,
     "metadata": {},
     "output_type": "execute_result"
    }
   ],
   "source": [
    "len(raw_article_data)"
   ]
  }
 ],
 "metadata": {
  "kernelspec": {
   "display_name": "Python 3",
   "language": "python",
   "name": "python3"
  },
  "language_info": {
   "codemirror_mode": {
    "name": "ipython",
    "version": 3
   },
   "file_extension": ".py",
   "mimetype": "text/x-python",
   "name": "python",
   "nbconvert_exporter": "python",
   "pygments_lexer": "ipython3",
   "version": "3.7.6"
  }
 },
 "nbformat": 4,
 "nbformat_minor": 4
}
