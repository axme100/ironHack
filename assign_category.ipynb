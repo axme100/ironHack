{
 "cells": [
  {
   "cell_type": "code",
   "execution_count": null,
   "metadata": {},
   "outputs": [],
   "source": [
    "def get_category_form_url():\n",
    "    '''Input: URL and Publication\n",
    "       Output: Discrete category\n",
    "    '''\n",
    "    xmlCategories = {'Expansión - Emprendedores': 'Negocio',\n",
    "                    'Expansión - Nacional': 'México',\n",
    "                    'Expansión - Dinero': 'Negocio',\n",
    "                    'Expansión - Carrera': 'Negocio',\n",
    "                    'Expansión - Opinión': 'Opinión',\n",
    "                    'Expansión - Tecnología': 'Tecnología',\n",
    "                    'Expansión - Empresas': 'Negocio'}"
   ]
  }
 ],
 "metadata": {
  "kernelspec": {
   "display_name": "Python 3",
   "language": "python",
   "name": "python3"
  },
  "language_info": {
   "codemirror_mode": {
    "name": "ipython",
    "version": 3
   },
   "file_extension": ".py",
   "mimetype": "text/x-python",
   "name": "python",
   "nbconvert_exporter": "python",
   "pygments_lexer": "ipython3",
   "version": "3.7.6"
  }
 },
 "nbformat": 4,
 "nbformat_minor": 4
}
